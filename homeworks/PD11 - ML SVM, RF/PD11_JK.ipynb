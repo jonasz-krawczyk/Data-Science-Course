{
 "cells": [
  {
   "cell_type": "markdown",
   "id": "d43eaf98",
   "metadata": {},
   "source": [
    "## JDSZR6, Jonasz Krawczyk\n",
    "### PD11"
   ]
  },
  {
   "cell_type": "markdown",
   "id": "aca17e07",
   "metadata": {},
   "source": [
    "### treść zadania:\n",
    "Na podstawie danych zawartych w zbiorze https://www.kaggle.com/mlg-ulb/creditcardfraud \n",
    "dotyczącym wyłudzeń transakcji kartowych, stwórz model SVM oraz lasu losowego, \n",
    "który szacować będzie ryzyko wyłudzenia.\n",
    "\n",
    "W zadaniu muszą pojawić się co najmniej takie punkty jak:\n",
    "\n",
    "Podział zbioru na treningowy i testowy\n",
    "Ocena jakości każdego z modeli oraz wybór lepszego z nich.\n",
    "Wybór poziomu cut-off, który pozwoli na jak najlepsze wykrywanie fraud'ów \n",
    "(Zastanów się, co jest dla Ciebie gorszą sytuacją błędne przypisanie frauda \n",
    "zwykłej transakcji czy uznanie zwykłej transakcji za fradu). Uargumnetuj swój wybór.\n",
    "Zadania dodatkowe (ekstra punkty!):\n",
    "\n",
    "Wydziel również zbiór walidacyjny, na którym sprawdzisz czy wybrany, ostateczny model \n",
    "zachowuje jakość.\n",
    "Fraud jest zdarzeniem rzadkim. Istnieją metody, które pozwalają na lepsze \n",
    "rozpoznanie tego typu zjawisk, mogą to być na przykład oversampling lub undersampling. \n",
    "Użyj jednej z tych metod.\n",
    "Uwagi:\n",
    "\n",
    "Zbiór cech jest wynikiem analizy głównych składowych (ang. PCA) - \n",
    "metody zmniejszającej wymiarowość (liczbę cech objaśniających). \n",
    "Możecie znaleźć wiele ciekawych materiałów na ten temat w internecie. \n",
    "W powyższym zadaniu nie ma jednak konieczności poznawania szczegółów tej metody. \n",
    "Dla celów naukowych, możecie sprawdzić średnią i odchylenie standardowe każdej ze zmiennych."
   ]
  },
  {
   "cell_type": "markdown",
   "id": "9c7eb975",
   "metadata": {},
   "source": [
    "--------"
   ]
  },
  {
   "cell_type": "markdown",
   "id": "cfe9d491",
   "metadata": {},
   "source": [
    "wczytanie pakietów"
   ]
  },
  {
   "cell_type": "code",
   "execution_count": 57,
   "id": "030466a1",
   "metadata": {},
   "outputs": [
    {
     "name": "stdout",
     "output_type": "stream",
     "text": [
      "Collecting imbalanced-learn\n",
      "  Using cached imbalanced_learn-0.9.0-py3-none-any.whl (199 kB)\n",
      "Requirement already satisfied: joblib>=0.11 in c:\\programdata\\anaconda3\\lib\\site-packages (from imbalanced-learn) (1.0.1)\n",
      "Requirement already satisfied: scikit-learn>=1.0.1 in c:\\programdata\\anaconda3\\lib\\site-packages (from imbalanced-learn) (1.0.2)\n",
      "Requirement already satisfied: numpy>=1.14.6 in c:\\programdata\\anaconda3\\lib\\site-packages (from imbalanced-learn) (1.20.1)\n",
      "Requirement already satisfied: threadpoolctl>=2.0.0 in c:\\programdata\\anaconda3\\lib\\site-packages (from imbalanced-learn) (2.1.0)\n",
      "Requirement already satisfied: scipy>=1.1.0 in c:\\programdata\\anaconda3\\lib\\site-packages (from imbalanced-learn) (1.6.2)\n",
      "Installing collected packages: imbalanced-learn\n",
      "Successfully installed imbalanced-learn-0.9.0\n",
      "Note: you may need to restart the kernel to use updated packages.\n"
     ]
    }
   ],
   "source": [
    "pip install -U imbalanced-learn"
   ]
  },
  {
   "cell_type": "code",
   "execution_count": 46,
   "id": "0ade442a",
   "metadata": {},
   "outputs": [],
   "source": [
    "import pandas as pd\n",
    "import matplotlib.pyplot as plt\n",
    "import seaborn as sns\n",
    "import numpy as np\n",
    "import math\n",
    "from imblearn import under_sampling as us\n",
    "from collections import Counter\n",
    "\n",
    "from numpy import sqrt\n",
    "from numpy import argmax\n",
    "\n",
    "from sklearn.model_selection import train_test_split\n",
    "from sklearn.svm import SVC, SVR\n",
    "from sklearn.ensemble import RandomForestClassifier\n",
    "from sklearn.metrics import accuracy_score, classification_report, f1_score, precision_score, roc_auc_score, mean_squared_error, r2_score, mean_absolute_error, mean_absolute_percentage_error, roc_curve, plot_roc_curve\n",
    "from sklearn.model_selection import GridSearchCV, RandomizedSearchCV"
   ]
  },
  {
   "cell_type": "code",
   "execution_count": 2,
   "id": "cdbb225a",
   "metadata": {},
   "outputs": [],
   "source": [
    "import warnings\n",
    "warnings.filterwarnings('ignore')"
   ]
  },
  {
   "cell_type": "markdown",
   "id": "1f3505c7",
   "metadata": {},
   "source": [
    "### 1. pobranie danych, wgląd"
   ]
  },
  {
   "cell_type": "code",
   "execution_count": 3,
   "id": "2cbcfaca",
   "metadata": {},
   "outputs": [],
   "source": [
    "df = pd.read_csv('creditcard.csv')"
   ]
  },
  {
   "cell_type": "code",
   "execution_count": 4,
   "id": "0face560",
   "metadata": {},
   "outputs": [
    {
     "data": {
      "text/html": [
       "<div>\n",
       "<style scoped>\n",
       "    .dataframe tbody tr th:only-of-type {\n",
       "        vertical-align: middle;\n",
       "    }\n",
       "\n",
       "    .dataframe tbody tr th {\n",
       "        vertical-align: top;\n",
       "    }\n",
       "\n",
       "    .dataframe thead th {\n",
       "        text-align: right;\n",
       "    }\n",
       "</style>\n",
       "<table border=\"1\" class=\"dataframe\">\n",
       "  <thead>\n",
       "    <tr style=\"text-align: right;\">\n",
       "      <th></th>\n",
       "      <th>Time</th>\n",
       "      <th>V1</th>\n",
       "      <th>V2</th>\n",
       "      <th>V3</th>\n",
       "      <th>V4</th>\n",
       "      <th>V5</th>\n",
       "      <th>V6</th>\n",
       "      <th>V7</th>\n",
       "      <th>V8</th>\n",
       "      <th>V9</th>\n",
       "      <th>...</th>\n",
       "      <th>V21</th>\n",
       "      <th>V22</th>\n",
       "      <th>V23</th>\n",
       "      <th>V24</th>\n",
       "      <th>V25</th>\n",
       "      <th>V26</th>\n",
       "      <th>V27</th>\n",
       "      <th>V28</th>\n",
       "      <th>Amount</th>\n",
       "      <th>Class</th>\n",
       "    </tr>\n",
       "  </thead>\n",
       "  <tbody>\n",
       "    <tr>\n",
       "      <th>0</th>\n",
       "      <td>0.0</td>\n",
       "      <td>-1.359807</td>\n",
       "      <td>-0.072781</td>\n",
       "      <td>2.536347</td>\n",
       "      <td>1.378155</td>\n",
       "      <td>-0.338321</td>\n",
       "      <td>0.462388</td>\n",
       "      <td>0.239599</td>\n",
       "      <td>0.098698</td>\n",
       "      <td>0.363787</td>\n",
       "      <td>...</td>\n",
       "      <td>-0.018307</td>\n",
       "      <td>0.277838</td>\n",
       "      <td>-0.110474</td>\n",
       "      <td>0.066928</td>\n",
       "      <td>0.128539</td>\n",
       "      <td>-0.189115</td>\n",
       "      <td>0.133558</td>\n",
       "      <td>-0.021053</td>\n",
       "      <td>149.62</td>\n",
       "      <td>0</td>\n",
       "    </tr>\n",
       "    <tr>\n",
       "      <th>1</th>\n",
       "      <td>0.0</td>\n",
       "      <td>1.191857</td>\n",
       "      <td>0.266151</td>\n",
       "      <td>0.166480</td>\n",
       "      <td>0.448154</td>\n",
       "      <td>0.060018</td>\n",
       "      <td>-0.082361</td>\n",
       "      <td>-0.078803</td>\n",
       "      <td>0.085102</td>\n",
       "      <td>-0.255425</td>\n",
       "      <td>...</td>\n",
       "      <td>-0.225775</td>\n",
       "      <td>-0.638672</td>\n",
       "      <td>0.101288</td>\n",
       "      <td>-0.339846</td>\n",
       "      <td>0.167170</td>\n",
       "      <td>0.125895</td>\n",
       "      <td>-0.008983</td>\n",
       "      <td>0.014724</td>\n",
       "      <td>2.69</td>\n",
       "      <td>0</td>\n",
       "    </tr>\n",
       "    <tr>\n",
       "      <th>2</th>\n",
       "      <td>1.0</td>\n",
       "      <td>-1.358354</td>\n",
       "      <td>-1.340163</td>\n",
       "      <td>1.773209</td>\n",
       "      <td>0.379780</td>\n",
       "      <td>-0.503198</td>\n",
       "      <td>1.800499</td>\n",
       "      <td>0.791461</td>\n",
       "      <td>0.247676</td>\n",
       "      <td>-1.514654</td>\n",
       "      <td>...</td>\n",
       "      <td>0.247998</td>\n",
       "      <td>0.771679</td>\n",
       "      <td>0.909412</td>\n",
       "      <td>-0.689281</td>\n",
       "      <td>-0.327642</td>\n",
       "      <td>-0.139097</td>\n",
       "      <td>-0.055353</td>\n",
       "      <td>-0.059752</td>\n",
       "      <td>378.66</td>\n",
       "      <td>0</td>\n",
       "    </tr>\n",
       "    <tr>\n",
       "      <th>3</th>\n",
       "      <td>1.0</td>\n",
       "      <td>-0.966272</td>\n",
       "      <td>-0.185226</td>\n",
       "      <td>1.792993</td>\n",
       "      <td>-0.863291</td>\n",
       "      <td>-0.010309</td>\n",
       "      <td>1.247203</td>\n",
       "      <td>0.237609</td>\n",
       "      <td>0.377436</td>\n",
       "      <td>-1.387024</td>\n",
       "      <td>...</td>\n",
       "      <td>-0.108300</td>\n",
       "      <td>0.005274</td>\n",
       "      <td>-0.190321</td>\n",
       "      <td>-1.175575</td>\n",
       "      <td>0.647376</td>\n",
       "      <td>-0.221929</td>\n",
       "      <td>0.062723</td>\n",
       "      <td>0.061458</td>\n",
       "      <td>123.50</td>\n",
       "      <td>0</td>\n",
       "    </tr>\n",
       "    <tr>\n",
       "      <th>4</th>\n",
       "      <td>2.0</td>\n",
       "      <td>-1.158233</td>\n",
       "      <td>0.877737</td>\n",
       "      <td>1.548718</td>\n",
       "      <td>0.403034</td>\n",
       "      <td>-0.407193</td>\n",
       "      <td>0.095921</td>\n",
       "      <td>0.592941</td>\n",
       "      <td>-0.270533</td>\n",
       "      <td>0.817739</td>\n",
       "      <td>...</td>\n",
       "      <td>-0.009431</td>\n",
       "      <td>0.798278</td>\n",
       "      <td>-0.137458</td>\n",
       "      <td>0.141267</td>\n",
       "      <td>-0.206010</td>\n",
       "      <td>0.502292</td>\n",
       "      <td>0.219422</td>\n",
       "      <td>0.215153</td>\n",
       "      <td>69.99</td>\n",
       "      <td>0</td>\n",
       "    </tr>\n",
       "  </tbody>\n",
       "</table>\n",
       "<p>5 rows × 31 columns</p>\n",
       "</div>"
      ],
      "text/plain": [
       "   Time        V1        V2        V3        V4        V5        V6        V7  \\\n",
       "0   0.0 -1.359807 -0.072781  2.536347  1.378155 -0.338321  0.462388  0.239599   \n",
       "1   0.0  1.191857  0.266151  0.166480  0.448154  0.060018 -0.082361 -0.078803   \n",
       "2   1.0 -1.358354 -1.340163  1.773209  0.379780 -0.503198  1.800499  0.791461   \n",
       "3   1.0 -0.966272 -0.185226  1.792993 -0.863291 -0.010309  1.247203  0.237609   \n",
       "4   2.0 -1.158233  0.877737  1.548718  0.403034 -0.407193  0.095921  0.592941   \n",
       "\n",
       "         V8        V9  ...       V21       V22       V23       V24       V25  \\\n",
       "0  0.098698  0.363787  ... -0.018307  0.277838 -0.110474  0.066928  0.128539   \n",
       "1  0.085102 -0.255425  ... -0.225775 -0.638672  0.101288 -0.339846  0.167170   \n",
       "2  0.247676 -1.514654  ...  0.247998  0.771679  0.909412 -0.689281 -0.327642   \n",
       "3  0.377436 -1.387024  ... -0.108300  0.005274 -0.190321 -1.175575  0.647376   \n",
       "4 -0.270533  0.817739  ... -0.009431  0.798278 -0.137458  0.141267 -0.206010   \n",
       "\n",
       "        V26       V27       V28  Amount  Class  \n",
       "0 -0.189115  0.133558 -0.021053  149.62      0  \n",
       "1  0.125895 -0.008983  0.014724    2.69      0  \n",
       "2 -0.139097 -0.055353 -0.059752  378.66      0  \n",
       "3 -0.221929  0.062723  0.061458  123.50      0  \n",
       "4  0.502292  0.219422  0.215153   69.99      0  \n",
       "\n",
       "[5 rows x 31 columns]"
      ]
     },
     "execution_count": 4,
     "metadata": {},
     "output_type": "execute_result"
    }
   ],
   "source": [
    "df.head()"
   ]
  },
  {
   "cell_type": "code",
   "execution_count": 5,
   "id": "829c0846",
   "metadata": {},
   "outputs": [
    {
     "name": "stdout",
     "output_type": "stream",
     "text": [
      "<class 'pandas.core.frame.DataFrame'>\n",
      "RangeIndex: 284807 entries, 0 to 284806\n",
      "Data columns (total 31 columns):\n",
      " #   Column  Non-Null Count   Dtype  \n",
      "---  ------  --------------   -----  \n",
      " 0   Time    284807 non-null  float64\n",
      " 1   V1      284807 non-null  float64\n",
      " 2   V2      284807 non-null  float64\n",
      " 3   V3      284807 non-null  float64\n",
      " 4   V4      284807 non-null  float64\n",
      " 5   V5      284807 non-null  float64\n",
      " 6   V6      284807 non-null  float64\n",
      " 7   V7      284807 non-null  float64\n",
      " 8   V8      284807 non-null  float64\n",
      " 9   V9      284807 non-null  float64\n",
      " 10  V10     284807 non-null  float64\n",
      " 11  V11     284807 non-null  float64\n",
      " 12  V12     284807 non-null  float64\n",
      " 13  V13     284807 non-null  float64\n",
      " 14  V14     284807 non-null  float64\n",
      " 15  V15     284807 non-null  float64\n",
      " 16  V16     284807 non-null  float64\n",
      " 17  V17     284807 non-null  float64\n",
      " 18  V18     284807 non-null  float64\n",
      " 19  V19     284807 non-null  float64\n",
      " 20  V20     284807 non-null  float64\n",
      " 21  V21     284807 non-null  float64\n",
      " 22  V22     284807 non-null  float64\n",
      " 23  V23     284807 non-null  float64\n",
      " 24  V24     284807 non-null  float64\n",
      " 25  V25     284807 non-null  float64\n",
      " 26  V26     284807 non-null  float64\n",
      " 27  V27     284807 non-null  float64\n",
      " 28  V28     284807 non-null  float64\n",
      " 29  Amount  284807 non-null  float64\n",
      " 30  Class   284807 non-null  int64  \n",
      "dtypes: float64(30), int64(1)\n",
      "memory usage: 67.4 MB\n"
     ]
    }
   ],
   "source": [
    "df.info()"
   ]
  },
  {
   "cell_type": "code",
   "execution_count": 6,
   "id": "f427cd18",
   "metadata": {},
   "outputs": [
    {
     "data": {
      "text/plain": [
       "(284807, 31)"
      ]
     },
     "execution_count": 6,
     "metadata": {},
     "output_type": "execute_result"
    }
   ],
   "source": [
    "df.shape"
   ]
  },
  {
   "cell_type": "code",
   "execution_count": 7,
   "id": "facfe213",
   "metadata": {},
   "outputs": [
    {
     "data": {
      "text/html": [
       "<div>\n",
       "<style scoped>\n",
       "    .dataframe tbody tr th:only-of-type {\n",
       "        vertical-align: middle;\n",
       "    }\n",
       "\n",
       "    .dataframe tbody tr th {\n",
       "        vertical-align: top;\n",
       "    }\n",
       "\n",
       "    .dataframe thead th {\n",
       "        text-align: right;\n",
       "    }\n",
       "</style>\n",
       "<table border=\"1\" class=\"dataframe\">\n",
       "  <thead>\n",
       "    <tr style=\"text-align: right;\">\n",
       "      <th></th>\n",
       "      <th>Time</th>\n",
       "      <th>V1</th>\n",
       "      <th>V2</th>\n",
       "      <th>V3</th>\n",
       "      <th>V4</th>\n",
       "      <th>V5</th>\n",
       "      <th>V6</th>\n",
       "      <th>V7</th>\n",
       "      <th>V8</th>\n",
       "      <th>V9</th>\n",
       "      <th>...</th>\n",
       "      <th>V21</th>\n",
       "      <th>V22</th>\n",
       "      <th>V23</th>\n",
       "      <th>V24</th>\n",
       "      <th>V25</th>\n",
       "      <th>V26</th>\n",
       "      <th>V27</th>\n",
       "      <th>V28</th>\n",
       "      <th>Amount</th>\n",
       "      <th>Class</th>\n",
       "    </tr>\n",
       "  </thead>\n",
       "  <tbody>\n",
       "    <tr>\n",
       "      <th>count</th>\n",
       "      <td>284807.000000</td>\n",
       "      <td>2.848070e+05</td>\n",
       "      <td>2.848070e+05</td>\n",
       "      <td>2.848070e+05</td>\n",
       "      <td>2.848070e+05</td>\n",
       "      <td>2.848070e+05</td>\n",
       "      <td>2.848070e+05</td>\n",
       "      <td>2.848070e+05</td>\n",
       "      <td>2.848070e+05</td>\n",
       "      <td>2.848070e+05</td>\n",
       "      <td>...</td>\n",
       "      <td>2.848070e+05</td>\n",
       "      <td>2.848070e+05</td>\n",
       "      <td>2.848070e+05</td>\n",
       "      <td>2.848070e+05</td>\n",
       "      <td>2.848070e+05</td>\n",
       "      <td>2.848070e+05</td>\n",
       "      <td>2.848070e+05</td>\n",
       "      <td>2.848070e+05</td>\n",
       "      <td>284807.000000</td>\n",
       "      <td>284807.000000</td>\n",
       "    </tr>\n",
       "    <tr>\n",
       "      <th>mean</th>\n",
       "      <td>94813.859575</td>\n",
       "      <td>3.918649e-15</td>\n",
       "      <td>5.682686e-16</td>\n",
       "      <td>-8.761736e-15</td>\n",
       "      <td>2.811118e-15</td>\n",
       "      <td>-1.552103e-15</td>\n",
       "      <td>2.040130e-15</td>\n",
       "      <td>-1.698953e-15</td>\n",
       "      <td>-1.893285e-16</td>\n",
       "      <td>-3.147640e-15</td>\n",
       "      <td>...</td>\n",
       "      <td>1.473120e-16</td>\n",
       "      <td>8.042109e-16</td>\n",
       "      <td>5.282512e-16</td>\n",
       "      <td>4.456271e-15</td>\n",
       "      <td>1.426896e-15</td>\n",
       "      <td>1.701640e-15</td>\n",
       "      <td>-3.662252e-16</td>\n",
       "      <td>-1.217809e-16</td>\n",
       "      <td>88.349619</td>\n",
       "      <td>0.001727</td>\n",
       "    </tr>\n",
       "    <tr>\n",
       "      <th>std</th>\n",
       "      <td>47488.145955</td>\n",
       "      <td>1.958696e+00</td>\n",
       "      <td>1.651309e+00</td>\n",
       "      <td>1.516255e+00</td>\n",
       "      <td>1.415869e+00</td>\n",
       "      <td>1.380247e+00</td>\n",
       "      <td>1.332271e+00</td>\n",
       "      <td>1.237094e+00</td>\n",
       "      <td>1.194353e+00</td>\n",
       "      <td>1.098632e+00</td>\n",
       "      <td>...</td>\n",
       "      <td>7.345240e-01</td>\n",
       "      <td>7.257016e-01</td>\n",
       "      <td>6.244603e-01</td>\n",
       "      <td>6.056471e-01</td>\n",
       "      <td>5.212781e-01</td>\n",
       "      <td>4.822270e-01</td>\n",
       "      <td>4.036325e-01</td>\n",
       "      <td>3.300833e-01</td>\n",
       "      <td>250.120109</td>\n",
       "      <td>0.041527</td>\n",
       "    </tr>\n",
       "    <tr>\n",
       "      <th>min</th>\n",
       "      <td>0.000000</td>\n",
       "      <td>-5.640751e+01</td>\n",
       "      <td>-7.271573e+01</td>\n",
       "      <td>-4.832559e+01</td>\n",
       "      <td>-5.683171e+00</td>\n",
       "      <td>-1.137433e+02</td>\n",
       "      <td>-2.616051e+01</td>\n",
       "      <td>-4.355724e+01</td>\n",
       "      <td>-7.321672e+01</td>\n",
       "      <td>-1.343407e+01</td>\n",
       "      <td>...</td>\n",
       "      <td>-3.483038e+01</td>\n",
       "      <td>-1.093314e+01</td>\n",
       "      <td>-4.480774e+01</td>\n",
       "      <td>-2.836627e+00</td>\n",
       "      <td>-1.029540e+01</td>\n",
       "      <td>-2.604551e+00</td>\n",
       "      <td>-2.256568e+01</td>\n",
       "      <td>-1.543008e+01</td>\n",
       "      <td>0.000000</td>\n",
       "      <td>0.000000</td>\n",
       "    </tr>\n",
       "    <tr>\n",
       "      <th>25%</th>\n",
       "      <td>54201.500000</td>\n",
       "      <td>-9.203734e-01</td>\n",
       "      <td>-5.985499e-01</td>\n",
       "      <td>-8.903648e-01</td>\n",
       "      <td>-8.486401e-01</td>\n",
       "      <td>-6.915971e-01</td>\n",
       "      <td>-7.682956e-01</td>\n",
       "      <td>-5.540759e-01</td>\n",
       "      <td>-2.086297e-01</td>\n",
       "      <td>-6.430976e-01</td>\n",
       "      <td>...</td>\n",
       "      <td>-2.283949e-01</td>\n",
       "      <td>-5.423504e-01</td>\n",
       "      <td>-1.618463e-01</td>\n",
       "      <td>-3.545861e-01</td>\n",
       "      <td>-3.171451e-01</td>\n",
       "      <td>-3.269839e-01</td>\n",
       "      <td>-7.083953e-02</td>\n",
       "      <td>-5.295979e-02</td>\n",
       "      <td>5.600000</td>\n",
       "      <td>0.000000</td>\n",
       "    </tr>\n",
       "    <tr>\n",
       "      <th>50%</th>\n",
       "      <td>84692.000000</td>\n",
       "      <td>1.810880e-02</td>\n",
       "      <td>6.548556e-02</td>\n",
       "      <td>1.798463e-01</td>\n",
       "      <td>-1.984653e-02</td>\n",
       "      <td>-5.433583e-02</td>\n",
       "      <td>-2.741871e-01</td>\n",
       "      <td>4.010308e-02</td>\n",
       "      <td>2.235804e-02</td>\n",
       "      <td>-5.142873e-02</td>\n",
       "      <td>...</td>\n",
       "      <td>-2.945017e-02</td>\n",
       "      <td>6.781943e-03</td>\n",
       "      <td>-1.119293e-02</td>\n",
       "      <td>4.097606e-02</td>\n",
       "      <td>1.659350e-02</td>\n",
       "      <td>-5.213911e-02</td>\n",
       "      <td>1.342146e-03</td>\n",
       "      <td>1.124383e-02</td>\n",
       "      <td>22.000000</td>\n",
       "      <td>0.000000</td>\n",
       "    </tr>\n",
       "    <tr>\n",
       "      <th>75%</th>\n",
       "      <td>139320.500000</td>\n",
       "      <td>1.315642e+00</td>\n",
       "      <td>8.037239e-01</td>\n",
       "      <td>1.027196e+00</td>\n",
       "      <td>7.433413e-01</td>\n",
       "      <td>6.119264e-01</td>\n",
       "      <td>3.985649e-01</td>\n",
       "      <td>5.704361e-01</td>\n",
       "      <td>3.273459e-01</td>\n",
       "      <td>5.971390e-01</td>\n",
       "      <td>...</td>\n",
       "      <td>1.863772e-01</td>\n",
       "      <td>5.285536e-01</td>\n",
       "      <td>1.476421e-01</td>\n",
       "      <td>4.395266e-01</td>\n",
       "      <td>3.507156e-01</td>\n",
       "      <td>2.409522e-01</td>\n",
       "      <td>9.104512e-02</td>\n",
       "      <td>7.827995e-02</td>\n",
       "      <td>77.165000</td>\n",
       "      <td>0.000000</td>\n",
       "    </tr>\n",
       "    <tr>\n",
       "      <th>max</th>\n",
       "      <td>172792.000000</td>\n",
       "      <td>2.454930e+00</td>\n",
       "      <td>2.205773e+01</td>\n",
       "      <td>9.382558e+00</td>\n",
       "      <td>1.687534e+01</td>\n",
       "      <td>3.480167e+01</td>\n",
       "      <td>7.330163e+01</td>\n",
       "      <td>1.205895e+02</td>\n",
       "      <td>2.000721e+01</td>\n",
       "      <td>1.559499e+01</td>\n",
       "      <td>...</td>\n",
       "      <td>2.720284e+01</td>\n",
       "      <td>1.050309e+01</td>\n",
       "      <td>2.252841e+01</td>\n",
       "      <td>4.584549e+00</td>\n",
       "      <td>7.519589e+00</td>\n",
       "      <td>3.517346e+00</td>\n",
       "      <td>3.161220e+01</td>\n",
       "      <td>3.384781e+01</td>\n",
       "      <td>25691.160000</td>\n",
       "      <td>1.000000</td>\n",
       "    </tr>\n",
       "  </tbody>\n",
       "</table>\n",
       "<p>8 rows × 31 columns</p>\n",
       "</div>"
      ],
      "text/plain": [
       "                Time            V1            V2            V3            V4  \\\n",
       "count  284807.000000  2.848070e+05  2.848070e+05  2.848070e+05  2.848070e+05   \n",
       "mean    94813.859575  3.918649e-15  5.682686e-16 -8.761736e-15  2.811118e-15   \n",
       "std     47488.145955  1.958696e+00  1.651309e+00  1.516255e+00  1.415869e+00   \n",
       "min         0.000000 -5.640751e+01 -7.271573e+01 -4.832559e+01 -5.683171e+00   \n",
       "25%     54201.500000 -9.203734e-01 -5.985499e-01 -8.903648e-01 -8.486401e-01   \n",
       "50%     84692.000000  1.810880e-02  6.548556e-02  1.798463e-01 -1.984653e-02   \n",
       "75%    139320.500000  1.315642e+00  8.037239e-01  1.027196e+00  7.433413e-01   \n",
       "max    172792.000000  2.454930e+00  2.205773e+01  9.382558e+00  1.687534e+01   \n",
       "\n",
       "                 V5            V6            V7            V8            V9  \\\n",
       "count  2.848070e+05  2.848070e+05  2.848070e+05  2.848070e+05  2.848070e+05   \n",
       "mean  -1.552103e-15  2.040130e-15 -1.698953e-15 -1.893285e-16 -3.147640e-15   \n",
       "std    1.380247e+00  1.332271e+00  1.237094e+00  1.194353e+00  1.098632e+00   \n",
       "min   -1.137433e+02 -2.616051e+01 -4.355724e+01 -7.321672e+01 -1.343407e+01   \n",
       "25%   -6.915971e-01 -7.682956e-01 -5.540759e-01 -2.086297e-01 -6.430976e-01   \n",
       "50%   -5.433583e-02 -2.741871e-01  4.010308e-02  2.235804e-02 -5.142873e-02   \n",
       "75%    6.119264e-01  3.985649e-01  5.704361e-01  3.273459e-01  5.971390e-01   \n",
       "max    3.480167e+01  7.330163e+01  1.205895e+02  2.000721e+01  1.559499e+01   \n",
       "\n",
       "       ...           V21           V22           V23           V24  \\\n",
       "count  ...  2.848070e+05  2.848070e+05  2.848070e+05  2.848070e+05   \n",
       "mean   ...  1.473120e-16  8.042109e-16  5.282512e-16  4.456271e-15   \n",
       "std    ...  7.345240e-01  7.257016e-01  6.244603e-01  6.056471e-01   \n",
       "min    ... -3.483038e+01 -1.093314e+01 -4.480774e+01 -2.836627e+00   \n",
       "25%    ... -2.283949e-01 -5.423504e-01 -1.618463e-01 -3.545861e-01   \n",
       "50%    ... -2.945017e-02  6.781943e-03 -1.119293e-02  4.097606e-02   \n",
       "75%    ...  1.863772e-01  5.285536e-01  1.476421e-01  4.395266e-01   \n",
       "max    ...  2.720284e+01  1.050309e+01  2.252841e+01  4.584549e+00   \n",
       "\n",
       "                V25           V26           V27           V28         Amount  \\\n",
       "count  2.848070e+05  2.848070e+05  2.848070e+05  2.848070e+05  284807.000000   \n",
       "mean   1.426896e-15  1.701640e-15 -3.662252e-16 -1.217809e-16      88.349619   \n",
       "std    5.212781e-01  4.822270e-01  4.036325e-01  3.300833e-01     250.120109   \n",
       "min   -1.029540e+01 -2.604551e+00 -2.256568e+01 -1.543008e+01       0.000000   \n",
       "25%   -3.171451e-01 -3.269839e-01 -7.083953e-02 -5.295979e-02       5.600000   \n",
       "50%    1.659350e-02 -5.213911e-02  1.342146e-03  1.124383e-02      22.000000   \n",
       "75%    3.507156e-01  2.409522e-01  9.104512e-02  7.827995e-02      77.165000   \n",
       "max    7.519589e+00  3.517346e+00  3.161220e+01  3.384781e+01   25691.160000   \n",
       "\n",
       "               Class  \n",
       "count  284807.000000  \n",
       "mean        0.001727  \n",
       "std         0.041527  \n",
       "min         0.000000  \n",
       "25%         0.000000  \n",
       "50%         0.000000  \n",
       "75%         0.000000  \n",
       "max         1.000000  \n",
       "\n",
       "[8 rows x 31 columns]"
      ]
     },
     "execution_count": 7,
     "metadata": {},
     "output_type": "execute_result"
    }
   ],
   "source": [
    "df.describe()"
   ]
  },
  {
   "cell_type": "code",
   "execution_count": 8,
   "id": "f0be6083",
   "metadata": {},
   "outputs": [
    {
     "data": {
      "text/plain": [
       "0    284315\n",
       "1       492\n",
       "Name: Class, dtype: int64"
      ]
     },
     "execution_count": 8,
     "metadata": {},
     "output_type": "execute_result"
    }
   ],
   "source": [
    "df[\"Class\"].value_counts()"
   ]
  },
  {
   "cell_type": "code",
   "execution_count": 9,
   "id": "87f5e09f",
   "metadata": {},
   "outputs": [
    {
     "data": {
      "text/plain": [
       "Time      0\n",
       "V1        0\n",
       "V2        0\n",
       "V3        0\n",
       "V4        0\n",
       "V5        0\n",
       "V6        0\n",
       "V7        0\n",
       "V8        0\n",
       "V9        0\n",
       "V10       0\n",
       "V11       0\n",
       "V12       0\n",
       "V13       0\n",
       "V14       0\n",
       "V15       0\n",
       "V16       0\n",
       "V17       0\n",
       "V18       0\n",
       "V19       0\n",
       "V20       0\n",
       "V21       0\n",
       "V22       0\n",
       "V23       0\n",
       "V24       0\n",
       "V25       0\n",
       "V26       0\n",
       "V27       0\n",
       "V28       0\n",
       "Amount    0\n",
       "Class     0\n",
       "dtype: int64"
      ]
     },
     "execution_count": 9,
     "metadata": {},
     "output_type": "execute_result"
    }
   ],
   "source": [
    "df.isnull().sum()"
   ]
  },
  {
   "cell_type": "markdown",
   "id": "87648737",
   "metadata": {},
   "source": [
    "### 2. analiza danych"
   ]
  },
  {
   "cell_type": "code",
   "execution_count": 10,
   "id": "bd4138c0",
   "metadata": {},
   "outputs": [
    {
     "data": {
      "image/png": "[encoded data removed]",
      "text/plain": [
       "<Figure size 288x432 with 1 Axes>"
      ]
     },
     "metadata": {
      "needs_background": "light"
     },
     "output_type": "display_data"
    }
   ],
   "source": [
    "plt.figure(figsize=(4, 6))\n",
    "sns.set_theme(style=\"whitegrid\")\n",
    "g = sns.boxplot(x='Class',\n",
    "                y='Time',\n",
    "                data=df,\n",
    "                notch=True,\n",
    "                palette='flare',\n",
    "                saturation=5)"
   ]
  },
  {
   "cell_type": "code",
   "execution_count": 11,
   "id": "b78d6551",
   "metadata": {},
   "outputs": [
    {
     "data": {
      "image/png": "[encoded data removed]",
      "text/plain": [
       "<Figure size 288x432 with 1 Axes>"
      ]
     },
     "metadata": {},
     "output_type": "display_data"
    }
   ],
   "source": [
    "plt.figure(figsize=(4, 6))\n",
    "sns.set_theme(style=\"whitegrid\")\n",
    "g = sns.boxplot(x='Class',\n",
    "                y='Amount',\n",
    "                data=df,\n",
    "                notch=True,\n",
    "                palette='flare',\n",
    "                saturation=5)"
   ]
  },
  {
   "cell_type": "markdown",
   "id": "beb6ca31",
   "metadata": {},
   "source": [
    "Widać tu sporo outlierów. Nie będę ich jednak usuwał bo dotyczą wysokości kredytu, ta w zasadzie może być dowolna, w zależności potrzeb i możliwości kredytobiorcy.\n",
    "\n",
    "Fraudy występują raczej dla małych kwot. Prawdopodobnie dla kredytów o dużej wartości wnioski są rozpatrywane bardziej skrupulatnie."
   ]
  },
  {
   "cell_type": "code",
   "execution_count": 12,
   "id": "d52595d7",
   "metadata": {},
   "outputs": [
    {
     "data": {
      "image/png": "[encoded data removed]",
      "text/plain": [
       "<Figure size 1440x1440 with 36 Axes>"
      ]
     },
     "metadata": {},
     "output_type": "display_data"
    }
   ],
   "source": [
    "df.hist(figsize=(20,20))\n",
    "plt.show()"
   ]
  },
  {
   "cell_type": "markdown",
   "id": "0d51226f",
   "metadata": {},
   "source": [
    "sprawdzę jeszcze korelację zmiennych"
   ]
  },
  {
   "cell_type": "code",
   "execution_count": 13,
   "id": "54f55dc4",
   "metadata": {},
   "outputs": [],
   "source": [
    "correlation_matrix = np.round(df.corr(), 3)"
   ]
  },
  {
   "cell_type": "code",
   "execution_count": 14,
   "id": "bee294ef",
   "metadata": {},
   "outputs": [
    {
     "data": {
      "text/plain": [
       "Class     1.000000\n",
       "V17       0.326481\n",
       "V14       0.302544\n",
       "V12       0.260593\n",
       "V10       0.216883\n",
       "V16       0.196539\n",
       "V3        0.192961\n",
       "V7        0.187257\n",
       "V11       0.154876\n",
       "V4        0.133447\n",
       "V18       0.111485\n",
       "V1        0.101347\n",
       "V9        0.097733\n",
       "V5        0.094974\n",
       "V2        0.091289\n",
       "V6        0.043643\n",
       "V21       0.040413\n",
       "V19       0.034783\n",
       "V20       0.020090\n",
       "V8        0.019875\n",
       "V27       0.017580\n",
       "Time      0.012323\n",
       "V28       0.009536\n",
       "V24       0.007221\n",
       "Amount    0.005632\n",
       "V13       0.004570\n",
       "V26       0.004455\n",
       "V15       0.004223\n",
       "V25       0.003308\n",
       "V23       0.002685\n",
       "V22       0.000805\n",
       "Name: Class, dtype: float64"
      ]
     },
     "execution_count": 14,
     "metadata": {},
     "output_type": "execute_result"
    }
   ],
   "source": [
    "cor_ranking = df.corr()['Class'].sort_values(ascending = False)\n",
    "cor_ranking_abs = abs(cor_ranking)\n",
    "cor_ranking_abs.sort_values(ascending = False)"
   ]
  },
  {
   "cell_type": "code",
   "execution_count": 15,
   "id": "cc0ee374",
   "metadata": {},
   "outputs": [
    {
     "data": {
      "image/png": "[encoded data removed]",
      "text/plain": [
       "<Figure size 1440x1440 with 2 Axes>"
      ]
     },
     "metadata": {},
     "output_type": "display_data"
    }
   ],
   "source": [
    "sns.set(rc={'figure.figsize': (20, 20)})\n",
    "color_map = sns.diverging_palette(240, 10, n=10)\n",
    "mask = np.triu(np.ones_like(correlation_matrix), k=0)\n",
    "sns.heatmap(correlation_matrix,\n",
    "            mask=mask,\n",
    "            annot=True,\n",
    "            fmt=\".2f\",\n",
    "            cmap=color_map,\n",
    "            vmin=-0.54,\n",
    "            vmax=0.41)\n",
    "pass"
   ]
  },
  {
   "cell_type": "markdown",
   "id": "ce983039",
   "metadata": {},
   "source": [
    "Dane są zanonimizowane, w zasadzie nie mamy możliwości dowiedzieć się co oznaczają zmienne V1 - V28. Wśród nich są czynniki które zdają się mieśc wpływ na zjawisko Frauda - w szczególności V10, V12, V14, V17."
   ]
  },
  {
   "cell_type": "markdown",
   "id": "6d58c074",
   "metadata": {},
   "source": [
    "Jedyne opisane kolumny Time i Amount nie są skorelowane z Class. Dataset jest więc mało interesujący dla osoby, która nie zna właściwych znazw pod pozostałymi zmiennymi. Nawet po rozwiązaniu zadania (po za przećwiczeniem tematyki ML) nie ma tu szans na poznanie jakichś zależności branżowych i wyciągnięcie wniosków w tym zakresie."
   ]
  },
  {
   "cell_type": "markdown",
   "id": "5d4da760",
   "metadata": {},
   "source": [
    "### 3. przygotowanie zbiorów"
   ]
  },
  {
   "cell_type": "markdown",
   "id": "9be187fd",
   "metadata": {},
   "source": [
    "Niestety bardzo dużo czasu spędzam na samych obliczeniach!\n",
    "Nie jestem w stanie wykonać ćwiczenia na całym zbiorze- na potrzeby pracy domowej muszę tutaj sprawę mocno ograniczyć.\n",
    "Muszę pousuwać część zmiennych, pozostawię tylko te najsilniej skorelowane. Pomniejszę też wielkości zbiorów.\n",
    "W rzeczywistej pracy raczej bym poprosił o mocniejszy komputer, lub przydzielenie większej ilości czasu na zadanie.\n",
    "Nie chcę spędzać nad tym reszty dzieciństwa więc kroję ile się da."
   ]
  },
  {
   "cell_type": "code",
   "execution_count": 16,
   "id": "da9f3dc6",
   "metadata": {},
   "outputs": [],
   "source": [
    "df1 = df.loc[:99999, ['V10', 'V12', 'V14', 'V16', 'V17', 'Class']]"
   ]
  },
  {
   "cell_type": "code",
   "execution_count": 17,
   "id": "d388d2cd",
   "metadata": {},
   "outputs": [
    {
     "data": {
      "text/plain": [
       "0    99777\n",
       "1      223\n",
       "Name: Class, dtype: int64"
      ]
     },
     "execution_count": 17,
     "metadata": {},
     "output_type": "execute_result"
    }
   ],
   "source": [
    "df1[\"Class\"].value_counts()"
   ]
  },
  {
   "cell_type": "code",
   "execution_count": 18,
   "id": "3434ca0b",
   "metadata": {},
   "outputs": [],
   "source": [
    "X = df1[['V10', 'V12', 'V14', 'V17', 'V16']]\n",
    "y = df1['Class']"
   ]
  },
  {
   "cell_type": "markdown",
   "id": "32da9b7f",
   "metadata": {},
   "source": [
    "Przygotuję tu od razu zbiór walidacyjny, może się później przydać."
   ]
  },
  {
   "cell_type": "markdown",
   "id": "3c057cf4",
   "metadata": {},
   "source": [
    "Przyłożę proporcję 50:25:25"
   ]
  },
  {
   "cell_type": "code",
   "execution_count": 19,
   "id": "499798ed",
   "metadata": {},
   "outputs": [],
   "source": [
    "X_train, X_test, y_train, y_test = train_test_split(X,\n",
    "                                                    y,\n",
    "                                                    test_size=0.5,\n",
    "                                                    random_state=606)"
   ]
  },
  {
   "cell_type": "code",
   "execution_count": 20,
   "id": "3d38dc13",
   "metadata": {},
   "outputs": [],
   "source": [
    "X_test, X_val, y_test, y_val = train_test_split(X_test,\n",
    "                                                y_test,\n",
    "                                                test_size=0.5,\n",
    "                                                random_state=606)"
   ]
  },
  {
   "cell_type": "markdown",
   "id": "c77e3b70",
   "metadata": {},
   "source": [
    "kontrola zbiorów"
   ]
  },
  {
   "cell_type": "code",
   "execution_count": 21,
   "id": "71ae8939",
   "metadata": {},
   "outputs": [
    {
     "name": "stdout",
     "output_type": "stream",
     "text": [
      "50000\n",
      "25000\n",
      "25000\n",
      "True\n",
      "\n",
      "50000\n",
      "25000\n",
      "25000\n",
      "True\n"
     ]
    }
   ],
   "source": [
    "print(len(X_train))\n",
    "print(len(X_test))\n",
    "print(len(X_val))\n",
    "total_len_x = (len(X_train)+len(X_test)+len(X_val))\n",
    "print(df1.shape[0] == total_len_x)\n",
    "print()\n",
    "print(len(y_train))\n",
    "print(len(y_test))\n",
    "print(len(y_val))\n",
    "total_len_y = (len(y_train)+len(y_test)+len(y_val))\n",
    "print(df1.shape[0] == total_len_y)"
   ]
  },
  {
   "cell_type": "markdown",
   "id": "f7fac3f2",
   "metadata": {},
   "source": [
    "dane są po analizie PCA, nie będę ich standaryzował."
   ]
  },
  {
   "cell_type": "markdown",
   "id": "f6d893ba",
   "metadata": {},
   "source": [
    "### 4. SVM - zadekretowanie i strojenie modelu"
   ]
  },
  {
   "cell_type": "code",
   "execution_count": 22,
   "id": "9bea67ac",
   "metadata": {},
   "outputs": [
    {
     "data": {
      "text/plain": [
       "SVC(probability=True)"
      ]
     },
     "execution_count": 22,
     "metadata": {},
     "output_type": "execute_result"
    }
   ],
   "source": [
    "svm_model = SVC(probability=True)\n",
    "svm_model.fit(X_train, y_train)"
   ]
  },
  {
   "cell_type": "code",
   "execution_count": 23,
   "id": "00e96f5f",
   "metadata": {},
   "outputs": [],
   "source": [
    "y_pred_svm=svm_model.predict(X_test)\n",
    "y_pred_proba_svm=svm_model.predict_proba(X_test)\n",
    "positive_proba_svm = y_pred_proba_svm[:, 1]"
   ]
  },
  {
   "cell_type": "code",
   "execution_count": 24,
   "id": "7ee92919",
   "metadata": {},
   "outputs": [
    {
     "name": "stdout",
     "output_type": "stream",
     "text": [
      "SVM AUC            :  0.9337992377005537\n",
      "SVM precision score:  0.972972972972973\n",
      "SVM F1 score       :  0.7659574468085106\n"
     ]
    }
   ],
   "source": [
    "print(\"SVM AUC            : \", roc_auc_score(y_test,positive_proba_svm))\n",
    "print(\"SVM precision score: \", precision_score(y_test,y_pred_svm))\n",
    "print(\"SVM F1 score       : \", f1_score(y_test,y_pred_svm))"
   ]
  },
  {
   "cell_type": "markdown",
   "id": "5f0ce74d",
   "metadata": {},
   "source": [
    "Drobna próba dostrojenia modelu. (robię ile mogę, tylko poniższy fragment zabrał mojemu komputerowi ok. 15 min.)"
   ]
  },
  {
   "cell_type": "code",
   "execution_count": 66,
   "id": "5adc5d69",
   "metadata": {},
   "outputs": [
    {
     "name": "stdout",
     "output_type": "stream",
     "text": [
      "Fitting 3 folds for each of 5 candidates, totalling 15 fits\n"
     ]
    },
    {
     "data": {
      "text/plain": [
       "{'gamma': 1.0, 'C': 5}"
      ]
     },
     "execution_count": 66,
     "metadata": {},
     "output_type": "execute_result"
    }
   ],
   "source": [
    "param_grid = {'gamma': np.linspace(0, 1, 11), 'C': range(1, 11, 1)}\n",
    "\n",
    "random_search = RandomizedSearchCV(\n",
    "    svm_model,\n",
    "    param_distributions=param_grid,\n",
    "    cv=3,\n",
    "    n_iter=5,\n",
    "    verbose=1,\n",
    "    scoring='roc_auc',\n",
    "    random_state=606)\n",
    "random_search.fit(X_train, y_train)\n",
    "random_search.best_params_"
   ]
  },
  {
   "cell_type": "code",
   "execution_count": 25,
   "id": "659faab5",
   "metadata": {},
   "outputs": [
    {
     "data": {
      "text/plain": [
       "SVC(C=5, gamma=1.0, probability=True)"
      ]
     },
     "execution_count": 25,
     "metadata": {},
     "output_type": "execute_result"
    }
   ],
   "source": [
    "svm_model_opt = SVC(gamma=1.0, C=5, probability=True)\n",
    "svm_model_opt.fit(X_train, y_train)"
   ]
  },
  {
   "cell_type": "code",
   "execution_count": 26,
   "id": "cc2e9f3f",
   "metadata": {},
   "outputs": [],
   "source": [
    "y_pred_svm_opt=svm_model_opt.predict(X_test)\n",
    "y_pred_proba_svm_opt=svm_model_opt.predict_proba(X_test)\n",
    "positive_proba_svm_opt = y_pred_proba_svm_opt[:, 1]"
   ]
  },
  {
   "cell_type": "code",
   "execution_count": 27,
   "id": "5eb44363",
   "metadata": {},
   "outputs": [
    {
     "name": "stdout",
     "output_type": "stream",
     "text": [
      "SVMopt AUC            :  0.9258832946134731\n",
      "SVMopt precision score:  0.9230769230769231\n",
      "SVMopt F1 score       :  0.34285714285714286\n"
     ]
    }
   ],
   "source": [
    "print(\"SVMopt AUC            : \", roc_auc_score(y_test,positive_proba_svm_opt))\n",
    "print(\"SVMopt precision score: \", precision_score(y_test,y_pred_svm_opt))\n",
    "print(\"SVMopt F1 score       : \", f1_score(y_test,y_pred_svm_opt))"
   ]
  },
  {
   "cell_type": "markdown",
   "id": "c801290c",
   "metadata": {},
   "source": [
    "Tak, w tym przypadku lepiej pozostawić domyślne parametry modelu. Niekoniecznie od razu zrobiłem coś źle z optymalizacją ale należy mieć z tyłu głowy, że to randomsearch więc i tak nie jest jakoś super skrupulatny, do tego nie pracujemy na danych z całego zbioru ale na jego okrojonej wersji.\n",
    "\n",
    "Z drugiej strony - domyślne parametry gamma i C ustawione na \"auto\" / \"scale\" - widać, że deweloperzy biblioteki dobrze przeymyśleli sprawę i można im zawierzyć."
   ]
  },
  {
   "cell_type": "markdown",
   "id": "78795f9b",
   "metadata": {},
   "source": [
    "### 5. las losowy - ustanowienie modelu i jego optymalizacja"
   ]
  },
  {
   "cell_type": "code",
   "execution_count": 28,
   "id": "8e8f911c",
   "metadata": {},
   "outputs": [
    {
     "data": {
      "text/plain": [
       "RandomForestClassifier()"
      ]
     },
     "execution_count": 28,
     "metadata": {},
     "output_type": "execute_result"
    }
   ],
   "source": [
    "rf_model = RandomForestClassifier()\n",
    "rf_model.fit(X_train, y_train)"
   ]
  },
  {
   "cell_type": "code",
   "execution_count": 29,
   "id": "ec86141b",
   "metadata": {},
   "outputs": [],
   "source": [
    "y_pred_rf=rf_model.predict(X_test)\n",
    "y_pred_proba_rf=rf_model.predict_proba(X_test)\n",
    "positive_proba_rf = y_pred_proba_rf[:, 1]"
   ]
  },
  {
   "cell_type": "code",
   "execution_count": 30,
   "id": "720f77b3",
   "metadata": {},
   "outputs": [
    {
     "name": "stdout",
     "output_type": "stream",
     "text": [
      "RF AUC score      :  0.920064765208535\n",
      "RF precision score:  0.9772727272727273\n",
      "RF F1 score       :  0.8514851485148516\n"
     ]
    }
   ],
   "source": [
    "print(\"RF AUC score      : \", roc_auc_score(y_test,positive_proba_rf))\n",
    "print(\"RF precision score: \", precision_score(y_test,y_pred_rf))\n",
    "print(\"RF F1 score       : \", f1_score(y_test,y_pred_rf))"
   ]
  },
  {
   "cell_type": "markdown",
   "id": "400b0bcb",
   "metadata": {},
   "source": [
    "ponownie jk w SVM, tutaj też dokonam próby optymalizacji."
   ]
  },
  {
   "cell_type": "code",
   "execution_count": 72,
   "id": "a5e03d6a",
   "metadata": {},
   "outputs": [
    {
     "name": "stdout",
     "output_type": "stream",
     "text": [
      "Fitting 3 folds for each of 5 candidates, totalling 15 fits\n"
     ]
    },
    {
     "data": {
      "text/plain": [
       "{'min_samples_leaf': 15, 'max_depth': 4}"
      ]
     },
     "execution_count": 72,
     "metadata": {},
     "output_type": "execute_result"
    }
   ],
   "source": [
    "param_grid = {'max_depth': range(3,8), 'min_samples_leaf': range(3, 21, 3)}\n",
    "\n",
    "random_search = RandomizedSearchCV(\n",
    "    rf_model,\n",
    "    param_distributions=param_grid,\n",
    "    cv=3,\n",
    "    n_iter=5,\n",
    "    verbose=1,\n",
    "    scoring='roc_auc',\n",
    "    random_state=606)\n",
    "random_search.fit(X_train, y_train)\n",
    "random_search.best_params_"
   ]
  },
  {
   "cell_type": "code",
   "execution_count": 31,
   "id": "3599354b",
   "metadata": {},
   "outputs": [
    {
     "data": {
      "text/plain": [
       "RandomForestClassifier(max_depth=4, min_samples_leaf=15)"
      ]
     },
     "execution_count": 31,
     "metadata": {},
     "output_type": "execute_result"
    }
   ],
   "source": [
    "rf_model_opt = RandomForestClassifier(min_samples_leaf=15, max_depth=4)\n",
    "rf_model_opt.fit(X_train, y_train)"
   ]
  },
  {
   "cell_type": "code",
   "execution_count": 32,
   "id": "b41a6eb6",
   "metadata": {},
   "outputs": [],
   "source": [
    "y_pred_rf_opt=rf_model_opt.predict(X_test)\n",
    "y_pred_proba_rf_opt=rf_model_opt.predict_proba(X_test)\n",
    "positive_proba_rf_opt = y_pred_proba_rf_opt[:, 1]"
   ]
  },
  {
   "cell_type": "code",
   "execution_count": 33,
   "id": "bdb96828",
   "metadata": {},
   "outputs": [
    {
     "name": "stdout",
     "output_type": "stream",
     "text": [
      "RFopt AUC score      :  0.9752407418739286\n",
      "RFopt precision score:  0.8035714285714286\n",
      "RFopt F1 score       :  0.7964601769911505\n"
     ]
    }
   ],
   "source": [
    "print(\"RFopt AUC score      : \", roc_auc_score(y_test,positive_proba_rf_opt))\n",
    "print(\"RFopt precision score: \", precision_score(y_test,y_pred_rf_opt))\n",
    "print(\"RFopt F1 score       : \", f1_score(y_test,y_pred_rf_opt))"
   ]
  },
  {
   "cell_type": "markdown",
   "id": "1c309903",
   "metadata": {},
   "source": [
    "Tym razem rzecz uległa polepszeniu, ale tylko w ujęciu pola pod krzywą ROC. Pozostałe parametry spadły."
   ]
  },
  {
   "cell_type": "markdown",
   "id": "614af057",
   "metadata": {},
   "source": [
    "### 6. wybór modelu"
   ]
  },
  {
   "cell_type": "markdown",
   "id": "352cea29",
   "metadata": {},
   "source": [
    "Do oceny modeli nie nadaje się metryka Accuracy ze względu na niezbilansowany charakter danych. Jest o tym także wspomniane w opisie tego datasetu na Kaglu. \n",
    "\n",
    "Modele będę oceniał stosując wartość pola pod krzywą ROC. \n",
    "Zdecydowałem, że w tym temacie ważne jest wykrycie Fraudu i model powinien być przedewszystkim skuteczny w jego określaniu. Powinien to robić dobrze nawet kosztem tego, że częściej miałby błędnie przypisywać fraud transakcjom w rzeczywistosci legalnym. Znaczy się będzie źle jeśli rzeczywisty fraud zostanie przegapiony. W tym przypadku lepiej przypisać ich więcej i np. oddać potem do ręcznej analizy przez pracownika kredytodawcy. Drugą metryką przy ocenie jest więc PositivePredictiveValue.\n",
    "\n",
    "Metryka F-1 występuje w ramach wsparcia, przyzwyczaiłem się do jej obecności. Dla mnie stanowi ogólny obraz modelu."
   ]
  },
  {
   "cell_type": "markdown",
   "id": "9237ff81",
   "metadata": {},
   "source": [
    "Z czterech dostępnych modeli najkorzystniejszym jest zoptymalizowany las losowy. Tak wskazuje przyjęte kryterium oceny modelu - pole pod krzywą ROC. Jednocześnie - pozostałe parametry: precyzja i f1_score spadły tak bardzo, że nie mogę tego pominąć. Nie są dla mnie tak istotne jak AUC ale szczególnie razi mnie precision które z blisko 1 spadło na ok. 0.8.\n",
    "Ostatecznie wybieram model domyślnego lasu losowego."
   ]
  },
  {
   "cell_type": "markdown",
   "id": "5e099c2a",
   "metadata": {},
   "source": [
    "sprawdzę jeszcze gościa na zbiorze walidacyjnym, skoro już pokusiłem się o stworzenie go."
   ]
  },
  {
   "cell_type": "code",
   "execution_count": 34,
   "id": "d4524f43",
   "metadata": {},
   "outputs": [],
   "source": [
    "y_pred_rfv=rf_model.predict(X_val)\n",
    "y_pred_proba_rfv=rf_model.predict_proba(X_val)\n",
    "positive_proba_rfv = y_pred_proba_rfv[:, 1]"
   ]
  },
  {
   "cell_type": "code",
   "execution_count": 35,
   "id": "83ab16c4",
   "metadata": {},
   "outputs": [
    {
     "name": "stdout",
     "output_type": "stream",
     "text": [
      "RFv AUC score      :  0.9559650803657589\n",
      "RFv precision score:  0.9777777777777777\n",
      "RFv F1 score       :  0.854368932038835\n"
     ]
    }
   ],
   "source": [
    "print(\"RFv AUC score      : \", roc_auc_score(y_val, positive_proba_rfv))\n",
    "print(\"RFv precision score: \", precision_score(y_val, y_pred_rfv))\n",
    "print(\"RFv F1 score       : \", f1_score(y_val, y_pred_rfv))"
   ]
  },
  {
   "cell_type": "markdown",
   "id": "a316c2db",
   "metadata": {},
   "source": [
    "Wyniki są porównywalne (powtarzalne), chociaż widać zwiększenie AUC. Zbiór walidacyjny się przydał, choćby do tego aby pokusić się o stwierdzenie, że to moje przycięcie datasetu nie było takim znowu dużym nadużyciem."
   ]
  },
  {
   "cell_type": "markdown",
   "id": "09ebb862",
   "metadata": {},
   "source": [
    "### 7. cut-off"
   ]
  },
  {
   "cell_type": "markdown",
   "id": "7122c62b",
   "metadata": {},
   "source": [
    "zastanawiam się, czy szukanie cut-off ma sens dla danych po PCA"
   ]
  },
  {
   "cell_type": "code",
   "execution_count": 41,
   "id": "1501d716",
   "metadata": {},
   "outputs": [
    {
     "name": "stdout",
     "output_type": "stream",
     "text": [
      "Best cut-off: 0.110000, G-Mean: 0.917\n"
     ]
    },
    {
     "data": {
      "image/png": "[encoded data removed]",
      "text/plain": [
       "<Figure size 1440x1440 with 1 Axes>"
      ]
     },
     "metadata": {},
     "output_type": "display_data"
    }
   ],
   "source": [
    "fpr, tpr, thresholds = roc_curve(y_test, positive_proba_rf)\n",
    "gmeans = sqrt(tpr * (1 - fpr))\n",
    "ix = argmax(gmeans)\n",
    "print('Best cut-off: %f, G-Mean: %.3f' % (thresholds[ix], gmeans[ix]))\n",
    "plt.plot([0, 1], [0, 1], linestyle='--', label='random')\n",
    "plt.plot(fpr, tpr, marker='.', label='model')\n",
    "plt.scatter(fpr[ix],\n",
    "               tpr[ix],\n",
    "               marker='o',\n",
    "               color='black',\n",
    "               label='Best Cut-off point')\n",
    "\n",
    "plt.xlabel('False Positive Rate')\n",
    "plt.ylabel('True Positive Rate')\n",
    "plt.legend()\n",
    "plt.show()"
   ]
  },
  {
   "cell_type": "markdown",
   "id": "9a5f7380",
   "metadata": {},
   "source": [
    "Przyłożę też undersampling. Oversampling stosuje się gdy jedynek jest więcej."
   ]
  },
  {
   "cell_type": "code",
   "execution_count": 42,
   "id": "f3539ae9",
   "metadata": {},
   "outputs": [],
   "source": [
    "X_testu = X_test\n",
    "y_testu = y_test"
   ]
  },
  {
   "cell_type": "code",
   "execution_count": 47,
   "id": "5e7767fb",
   "metadata": {},
   "outputs": [],
   "source": [
    "undersample = us.RandomUnderSampler()\n",
    "X_testu, y_testu= undersample.fit_resample(X, y)"
   ]
  },
  {
   "cell_type": "markdown",
   "id": "83b1ca7c",
   "metadata": {},
   "source": [
    "sprawdzę czy ilości rzeczywiście się rozłożyły bardziej korzystnie."
   ]
  },
  {
   "cell_type": "code",
   "execution_count": 48,
   "id": "ce5e5638",
   "metadata": {},
   "outputs": [
    {
     "name": "stdout",
     "output_type": "stream",
     "text": [
      "Counter({0: 24943, 1: 57})\n",
      "Counter({0: 223, 1: 223})\n"
     ]
    }
   ],
   "source": [
    "print(Counter(y_test))\n",
    "print(Counter(y_testu))"
   ]
  },
  {
   "cell_type": "code",
   "execution_count": 52,
   "id": "b0b11c4f",
   "metadata": {},
   "outputs": [],
   "source": [
    "y_pred_rf_u = rf_model.predict(X_testu)\n",
    "y_pred_proba_rf_u = rf_model.predict_proba(X_testu)\n",
    "positive_proba_rf_u = y_pred_proba_rf_u[:, 1]"
   ]
  },
  {
   "cell_type": "code",
   "execution_count": 53,
   "id": "ce5d2288",
   "metadata": {},
   "outputs": [
    {
     "name": "stdout",
     "output_type": "stream",
     "text": [
      "RFu AUC score      :  0.968459048040379\n",
      "RFu precision score:  1.0\n",
      "RFu F1 score       :  0.9330143540669855\n"
     ]
    }
   ],
   "source": [
    "print(\"RFu AUC score      : \", roc_auc_score(y_testu, positive_proba_rf_u))\n",
    "print(\"RFu precision score: \", precision_score(y_testu, y_predu))\n",
    "print(\"RFu F1 score       : \", f1_score(y_testu, y_predu))"
   ]
  },
  {
   "cell_type": "markdown",
   "id": "aca9ed67",
   "metadata": {},
   "source": [
    "Zabieg się przydał, metryki się poprawiły, w szczególności precision score."
   ]
  },
  {
   "cell_type": "code",
   "execution_count": null,
   "id": "5b623d4d",
   "metadata": {},
   "outputs": [],
   "source": []
  }
 ],
 "metadata": {
  "hide_input": false,
  "kernelspec": {
   "display_name": "Python 3",
   "language": "python",
   "name": "python3"
  },
  "language_info": {
   "codemirror_mode": {
    "name": "ipython",
    "version": 3
   },
   "file_extension": ".py",
   "mimetype": "text/x-python",
   "name": "python",
   "nbconvert_exporter": "python",
   "pygments_lexer": "ipython3",
   "version": "3.8.8"
  },
  "varInspector": {
   "cols": {
    "lenName": 16,
    "lenType": 16,
    "lenVar": 40
   },
   "kernels_config": {
    "python": {
     "delete_cmd_postfix": "",
     "delete_cmd_prefix": "del ",
     "library": "var_list.py",
     "varRefreshCmd": "print(var_dic_list())"
    },
    "r": {
     "delete_cmd_postfix": ") ",
     "delete_cmd_prefix": "rm(",
     "library": "var_list.r",
     "varRefreshCmd": "cat(var_dic_list()) "
    }
   },
   "types_to_exclude": [
    "module",
    "function",
    "builtin_function_or_method",
    "instance",
    "_Feature"
   ],
   "window_display": false
  }
 },
 "nbformat": 4,
 "nbformat_minor": 5
}
