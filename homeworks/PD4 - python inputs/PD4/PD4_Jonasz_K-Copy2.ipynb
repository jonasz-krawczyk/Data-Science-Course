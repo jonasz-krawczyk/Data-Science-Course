{
 "cells": [
  {
   "cell_type": "markdown",
   "metadata": {},
   "source": [
    "### Zadanie\n",
    "\n",
    "Otrzymaliśmy dane w następującej postaci: \"{dzień tygodnia};{cztery znaki zawierające wskazanie czujnika}\" (zawsze są to 4 znaki!).\n",
    "Napisz skrypt, który wygeneruje raport z konkretnego dnia na prośbę użytkownika:\n",
    "\n",
    "1. Poproś o podanie dnia dla którego ma zostać wyliczony raport (wielkość liter nie powinna mieć znaczenia)\n",
    "2. Pobierz odpowiednią wartość z danych\n",
    "3. Przelicz wskazanie czujnika na temperaturę dzieląc przez wartość z tabeli\n",
    "4. Wypisz temperaturę z dokładnością do trzeciego miejsca po przecinku (tak jak na przykładzie) i ze znakiem specjalnym ℃ (\\u2103)\n",
    "5. BONUS. Do punktu 1 dodaj walidację - upewnij się, że użytkownik podał jeden z dni który możemy znaleźć w danych\n",
    "6. BONUS. Do punktu 4 dodaj wizualizację temperatury w zakresie 0 do 100 stopni na pasku złożonym z 20 znaków (np. dla 50 stopni, zapełnione jest 10/20 znaków)\n",
    "\n",
    "\n",
    "##### Tabela przeliczania\n",
    "\n",
    "```\n",
    "Wskazanie czujnika - przelicznik:\n",
    "\n",
    "Większe niż, lub równe 1400 - 22.5\n",
    "Pomiędzy 1400, a 1200 - 23.1\n",
    "Mniejsze niż, lub równe 1200 - 23.5\n",
    "```"
   ]
  },
  {
   "cell_type": "markdown",
   "metadata": {},
   "source": [
    "metoda 0: ręczne wprowadzenie danych dnia tygodnia i odczytu"
   ]
  },
  {
   "cell_type": "code",
   "execution_count": 1,
   "metadata": {},
   "outputs": [
    {
     "name": "stdout",
     "output_type": "stream",
     "text": [
      "raport z dnia \"poniedziałek\":\n",
      "odczyt z czujnika: 1998\n",
      "zmierzona temperatura: 88.800℃\n",
      "0℃ |##################--| 100℃\n"
     ]
    }
   ],
   "source": [
    "dni = [\"poniedziałek\",\"wtorek\",\"środa\",\"czwartek\",\"piątek\",\"sobota\",\"niedziela\"]\n",
    "days = [\"monday\", \"tuesday\", \"wednesday\", \"thursday\", \"friday\", \"saturday\", \"sunday\"]\n",
    "pomiar = 0\n",
    "\n",
    "dzien = input(\"podaj dzień raportowania: \\n\").lower()\n",
    "if dzien in dni or dzien in days:\n",
    "    wskaz = input(\"podaj wskaz czujnika: \\n\")\n",
    "    if wskaz.isdigit() is True and len(wskaz) == 4:\n",
    "        if int(wskaz) >= 1400:\n",
    "            pomiar = int(wskaz) / 22.5\n",
    "        elif 1400 > int(wskaz) > 1200:\n",
    "            pomiar = int(wskaz) / 23.1\n",
    "        elif 1200 >= int(wskaz):\n",
    "            pomiar = int(wskaz) / 23.5\n",
    "        print (f\"raport z dnia \\\"{dzien}\\\":\")\n",
    "        print (f\"odczyt z czujnika: {wskaz}\")\n",
    "        print (f\"zmierzona temperatura: {pomiar:.03f}\\u2103\")\n",
    "        if pomiar <= 100:\n",
    "            print (\"0\\u2103\", \"|\" + \"#\"*(round(pomiar/5)) + \"-\"*(20-round(pomiar/5)) + \"|\", \"100\\u2103\")\n",
    "        else:\n",
    "             print (\"mierzona wielkość fizyczna po za zakresem pomiarowym aparatury!\\nNATYCHMIAST ODŁĄCZ ŹRÓDŁO CIEPŁA\\nsprawdź stan techniczny układu pomiarowego, przeprowadź odczyt ponownie\")\n",
    "    else:\n",
    "        print (\"wprowadzono niewłaściwą formę wskazu - wpisz dane liczbowe (4 cyfr.)\")\n",
    "else: \n",
    "    print (\"wprowadzono niewłaściwą nazwę dnia tygodnia\")\n"
   ]
  },
  {
   "cell_type": "code",
   "execution_count": 2,
   "metadata": {},
   "outputs": [],
   "source": [
    "data = \"\"\"\n",
    "monday;1250\n",
    "tuesday;1405\n",
    "wednesday;1750\n",
    "thursday;1100\n",
    "friday;0800\n",
    "saturday;1225\n",
    "sunday;1355\n",
    "\"\"\""
   ]
  },
  {
   "cell_type": "markdown",
   "metadata": {},
   "source": [
    "Przykładowe wyjście\n",
    "\n",
    "```\n",
    "Dane dla \"thursday\"\n",
    "Wskazanie czujnika: 1100\n",
    "Temperatura: 46.809℃\n",
    "0℃ |#########-----------| 100℃  # BONUS\n",
    "```"
   ]
  },
  {
   "cell_type": "markdown",
   "metadata": {},
   "source": [
    "po konsultacji z prowadzącym, czy dobrze czaję temat zadania: \n",
    "mam sprawdzic gdzie sie zaczyna dzien, \n",
    "*dostać się do konkretnego miejsca w \"data\", np. slice"
   ]
  },
  {
   "cell_type": "markdown",
   "metadata": {},
   "source": [
    "metoda 1 : ręczne wyciąganie danych"
   ]
  },
  {
   "cell_type": "code",
   "execution_count": 11,
   "metadata": {},
   "outputs": [],
   "source": [
    "data_monday = data[8:12]\n",
    "#print(data_monday)\n",
    "data_tuesday = data[21:25]\n",
    "#print(data_tuesday)\n",
    "data_wednesday = data[36:40]\n",
    "#print(data_wednesday)\n",
    "data_thursday = data[50:54]\n",
    "#print(data_thursday)\n",
    "data_friday = data[62:66]\n",
    "#print(data_friday)\n",
    "data_saturday = data[76:80]\n",
    "#print(data_saturday)\n",
    "data_sunday = data[88:92]\n",
    "#print(data_sunday)"
   ]
  },
  {
   "cell_type": "code",
   "execution_count": 9,
   "metadata": {},
   "outputs": [
    {
     "name": "stdout",
     "output_type": "stream",
     "text": [
      "raport z dnia \"wednesday\":\n",
      "odczyt z czujnika: 1750\n",
      "zmierzona temperatura: 77.778℃\n",
      "0℃ |################----| 100℃\n"
     ]
    }
   ],
   "source": [
    "pomiar = 0\n",
    "\n",
    "dzien = input(\"podaj dzień raportowania: \\n\").lower()\n",
    "if dzien == \"monday\":\n",
    "    wskaz = data_monday\n",
    "elif dzien == \"tuesday\":\n",
    "    wskaz = data_tuesday\n",
    "elif dzien == \"wednesday\":\n",
    "    wskaz = data_wednesday\n",
    "elif dzien == \"thursday\":\n",
    "    wskaz = data_thursday\n",
    "elif dzien == \"friday\":\n",
    "    wskaz = data_friday\n",
    "elif dzien == \"saturday\":\n",
    "    wskaz = data_saturday\n",
    "elif dzien == \"sunday\":\n",
    "    wskaz = data_sunday\n",
    "else: \n",
    "    print (\"wprowadzono niewłaściwą nazwę dnia tygodnia\")\n",
    "if wskaz:\n",
    "    print (f\"raport z dnia \\\"{dzien}\\\":\")\n",
    "    print (f\"odczyt z czujnika: {wskaz}\")\n",
    "    if int(wskaz) >= 1400:\n",
    "        pomiar = int(wskaz) / 22.5\n",
    "    elif 1400 > int(wskaz) > 1200:\n",
    "        pomiar = int(wskaz) / 23.1\n",
    "    else:\n",
    "        pomiar = int(wskaz) / 23.5\n",
    "    print (f\"zmierzona temperatura: {pomiar:.03f}\\u2103\")\n",
    "    print (\"0\\u2103\", \"|\" + \"#\"*(round(pomiar/5)) + \"-\"*(20-round(pomiar/5)) + \"|\", \"100\\u2103\")"
   ]
  },
  {
   "cell_type": "markdown",
   "metadata": {},
   "source": [
    "metoda 2: slicing"
   ]
  },
  {
   "cell_type": "code",
   "execution_count": 41,
   "metadata": {},
   "outputs": [
    {
     "name": "stdout",
     "output_type": "stream",
     "text": [
      "raport z dnia \"thursday\":\n",
      "odczyt z czujnika: 1100\n",
      "zmierzona temperatura: 46.809℃\n",
      "0℃ |#########-----------| 100℃\n"
     ]
    }
   ],
   "source": [
    "data2 = data.split(\"\\n\")\n",
    "data3 = []\n",
    "for word in data2:\n",
    "    if word != '':\n",
    "        data3.append(word.split(\";\"))\n",
    "dzien = input(\"podaj dzień raportowania: \\n\").lower()\n",
    "for day, measure in data3:\n",
    "    if day == dzien:\n",
    "        wskaz = measure\n",
    "if wskaz:\n",
    "    print (f\"raport z dnia \\\"{dzien}\\\":\")\n",
    "    print (f\"odczyt z czujnika: {wskaz}\")\n",
    "    pomiar = 0\n",
    "    if int(wskaz) >= 1400:\n",
    "        pomiar = int(wskaz) / 22.5\n",
    "    elif 1400 > int(wskaz) > 1200:\n",
    "        pomiar = int(wskaz) / 23.1\n",
    "    else:\n",
    "        pomiar = int(wskaz) / 23.5\n",
    "    print (f\"zmierzona temperatura: {pomiar:.03f}\\u2103\")\n",
    "    print (\"0\\u2103\", \"|\" + \"#\"*(round(pomiar/5)) + \"-\"*(20-round(pomiar/5)) + \"|\", \"100\\u2103\")"
   ]
  }
 ],
 "metadata": {
  "kernelspec": {
   "display_name": "Python 3",
   "language": "python",
   "name": "python3"
  },
  "language_info": {
   "codemirror_mode": {
    "name": "ipython",
    "version": 3
   },
   "file_extension": ".py",
   "mimetype": "text/x-python",
   "name": "python",
   "nbconvert_exporter": "python",
   "pygments_lexer": "ipython3",
   "version": "3.8.8"
  }
 },
 "nbformat": 4,
 "nbformat_minor": 4
}
