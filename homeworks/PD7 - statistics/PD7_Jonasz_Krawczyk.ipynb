{
 "cells": [
  {
   "cell_type": "markdown",
   "metadata": {},
   "source": [
    "![iSA logo](../iSA_logo.png)\n",
    "### Statystyka: Zadania domowe\n",
    "#### Kurs Junior Data Scientist 2020\n",
    "\n",
    "**Wojciech Artichowicz**"
   ]
  },
  {
   "cell_type": "markdown",
   "metadata": {},
   "source": [
    "### Wykonał:\n",
    "\n",
    "**Jonasz Krawczyk** JDSZR6 2022"
   ]
  },
  {
   "cell_type": "markdown",
   "metadata": {},
   "source": [
    "### A. Pytania teoretyczne:"
   ]
  },
  {
   "cell_type": "markdown",
   "metadata": {},
   "source": [
    "**1. Czym w teorii prawdopodobieństwa są zdarzenia?**"
   ]
  },
  {
   "cell_type": "markdown",
   "metadata": {},
   "source": [
    "są to zbiory / elementy zbiorów w rachunku p-wa.\n",
    "- zdarzenie elementarne - pojedynczy incydent, niepodzielny (taki kwant teori p-wa).\n",
    "\n",
    "np. \"wyrzucono 3 oczka na kostce\", \"zmierzono 12,94mm\"\n",
    "- zdarzenie losowe - poziom wyżej od elementarnego, możliwe wyniki mogą być określone przed przeprowadzeniem eksperymentu (ale nie któryś konkretny).\n",
    "\n",
    "np. \"rzut kostką\", \"pomiar liniałem z podziałką 0,02mm\"\n",
    "- zdarzenie pewne - cały zbiór zdarzeń elementarnych, na pewno się zmaterializuje (z p-wem = 1).\n",
    "\n",
    "np. \"będziesz miał nałożony podatek\" nie ważne jak duży, choć można to określić.\n",
    "\n",
    "np. \"umrzesz\" za 9999 dni, 9998, 9997, whenever ....\n",
    "- zdarzenie niemożliwe - przeciwne do pewnego - zbiór opisujący zdarzenie które nie może zaistnieć (jego p-wo = 0).\n",
    "\n",
    "np. \"szansa na wylosowanie liczby nieparzystej ze zbioru 2, 4, 6\""
   ]
  },
  {
   "cell_type": "markdown",
   "metadata": {},
   "source": [
    "**2. Podaj podstawowe własności zbioru. Czy w języku Python istnieje obiekt posiadający te własności?**"
   ]
  },
  {
   "cell_type": "markdown",
   "metadata": {},
   "source": [
    "zbiór jest kontenerem unikatów. Zawiera jakieś elementy, których kolejność występowania albo liczebność poszczególnych elementów nie ma znaczenia.\n",
    "\n",
    "zbiór może być pusty.\n",
    "\n",
    "w Pythonie jest to set."
   ]
  },
  {
   "cell_type": "markdown",
   "metadata": {},
   "source": [
    "**3. Jeżeli A jest pewnym zdarzeniem, to czym jest zdarzenie przeciwne?**"
   ]
  },
  {
   "cell_type": "markdown",
   "metadata": {},
   "source": [
    "Zdarzeniem przeciwnym do A jest A' : zdarzenie niemożliwe"
   ]
  },
  {
   "cell_type": "markdown",
   "metadata": {},
   "source": [
    "**4. Czym jest zdarzenie losowe? Czym jest zdarzenie pewne i niemożliwe?**"
   ]
  },
  {
   "cell_type": "markdown",
   "metadata": {},
   "source": [
    "patrz punkt 1. \n",
    "\n",
    "W uzupełnieniu dodam, że zdarzenia losowe, pewne i niemożliwe są podzbiorami w przestrzeni zdarzeń elementarnych. Oznacza to, że podlegają prawom zbiorów\n"
   ]
  },
  {
   "cell_type": "markdown",
   "metadata": {},
   "source": [
    "**5. Co to jest prawdopodobieństwo?**"
   ]
  },
  {
   "cell_type": "markdown",
   "metadata": {},
   "source": [
    "Szansa na zmaterializowanie się zdarzenia. \n",
    "matematycznie określane ułamkiem ilości zdarzeń elementarnych danego, konkretnego zjawiska (A) do liczby elementów skończonego zbioru jednakowo p-ych zdarzeń elementarnych (Om). \n",
    "\n",
    "A jest w Om.\n",
    "\n",
    "P=|A|/|Om|, 0⩽P(A)⩽1 dla każdego zdarzenia A⊂Ω"
   ]
  },
  {
   "cell_type": "markdown",
   "metadata": {},
   "source": [
    "**6. Podaj i objaśnij tw. Bayesa.**"
   ]
  },
  {
   "cell_type": "markdown",
   "metadata": {},
   "source": [
    "P(A|B) = (P(B|A)*P(A)) / P(B) \n",
    "\n",
    "Kilka czynników może być przyczyną wystąpienia tego samego zdarzenia. Jeśli to zdarzenie wystąpiło, to tw. Bayesa służy do określenia szansy na to, że wywołał je jakiś czynnik (jeden, określamy który). \n",
    "\n",
    "Odwraca sprawę klasycznego rachunku, tzn nie obliczamy p-wa całkowitego (Pc) ani cząstkowego (Pa, Pb, Pi, ...) tylko szansę na to, że czynnikiem który zmaterializował Pc jest np. Pa.\n",
    "\n",
    "Pa,b,i mogą być relatywnie duże (np. 0,999) ale ich szanse zaistnienia w odniesieniu do Pc sumują się do 1.\n",
    "\n",
    "Gdy przykładowo Pc = 0.2 * Pa + 0.5 * Pb + 0.3 * Pi to twierdzenie Bayesa pomaga znaleść którąś mnożną (jeden z ułakmów dziesiętnych) jeśli ich nie znamy, np. poszukujemy wartości \"0.2\"\n",
    "\n",
    "-----------\n",
    "Ktoś kupił produkt ze strony internetowej. Wiemy, że 90% osób w wieku 30-35 lat - jak już wejdzie na stronę internetową - to raczej decyduje się na zakup. Ale szansa na to, że osoba przeglądająca stronę internetową ma 30-35 lat wynosi tylko 15%.\n",
    "Jeśli nie mamy tej wartości 15% to pytamy towarzysza (tw.) Bayesa."
   ]
  },
  {
   "cell_type": "markdown",
   "metadata": {},
   "source": [
    "**7. Czym jest zmienna losowa?**"
   ]
  },
  {
   "cell_type": "markdown",
   "metadata": {},
   "source": [
    "Jest to funkcja która rzutuje własność pochodzącą z niewygodnej przestrzeni (np.probabilistycznej) na euklidesową, dla wygody dalszej obróbki.\n",
    "Taka funkcja może przypisać 1 dla orzełka i 0 dla reszka albo oceni wiedzę ucznia w skali 1-6."
   ]
  },
  {
   "cell_type": "markdown",
   "metadata": {},
   "source": [
    "**8. Czym jest rozkład prawdopodobieństwa?**"
   ]
  },
  {
   "cell_type": "markdown",
   "metadata": {},
   "source": [
    "Miara na zmiennej losowej; przypisanie prawdopodobieństw dla wartości zmiennej"
   ]
  },
  {
   "cell_type": "markdown",
   "metadata": {},
   "source": [
    "**9. Czym jest gęstosć rozkładu prawdopodobieństwa?**"
   ]
  },
  {
   "cell_type": "markdown",
   "metadata": {},
   "source": [
    "Jest to pochodna dystrybuanty; każda funkcja, która jest gęstością prawdopodobieństwa, wyznacza pewną dystrybuantę, a tym samym rozkład prawdopodobieństwa pewnej zmiennej.\n",
    "\n",
    "Obliczając całkę ograniczoną gęstości rozkładu p-wa otrzymamy p-wo wystąpienia danego zdarzenia losowego w podanych granicach.\n",
    "\n",
    "Obliczając całkę nieograniczoną gęstości rozkładu p-wa otrzymamy 1."
   ]
  },
  {
   "cell_type": "markdown",
   "metadata": {},
   "source": [
    "**10. Czym jest dystrybuanta?**"
   ]
  },
  {
   "cell_type": "markdown",
   "metadata": {},
   "source": [
    "Funkcja, która charakteryzuje rozkład prawdopodobieństwa zmiennej. Sumuje prawdopodobieństwa wystąpienia poszczególnych stanów zmiennej.\n",
    "Dla zmiennej dyskretnej dystybuanta przyjmuje postać schodków, dla ciągłej przypomina bardziej arctan; w każdym razie jest niemalejąca. Ponieważ opisuje p-wo to przyjmuje wartości od 0 do 1."
   ]
  },
  {
   "cell_type": "markdown",
   "metadata": {},
   "source": [
    "### B. Zadania (Python):"
   ]
  },
  {
   "cell_type": "markdown",
   "metadata": {},
   "source": [
    "**1. Eksperyment polega na badaniu ankietowym. Ankieta składa się z $N=4$ pytań. Na każde pytanie można udzielić jednej z trzech możliwych odpowiedzi (a, b, c). Omów:**\n",
    "\n",
    " - co będzie wynikiem pojedynczego eksperymentu;\n",
    " - czym w takim przypadku będzie zdarzenie elementarne;\n",
    " - czym będzie przestrzeń zdarzeń elementarnych;\n",
    " \n",
    "**Oblicz liczbę wszystkich możliwych wyników tego eksperymentu. Wygeneruj przestrzeń zdarzeń elementarnych.**"
   ]
  },
  {
   "cell_type": "markdown",
   "metadata": {},
   "source": [
    "a) wynikiem pojedynczego eksperymentu będzie wypełniona ankieta z odpowiedziami udzielonymi na wszystkie pytania.\n"
   ]
  },
  {
   "cell_type": "markdown",
   "metadata": {},
   "source": [
    "b) zdarzeniem elementarnym jest udzielenie odpowiedzi na pytanie ankiety"
   ]
  },
  {
   "cell_type": "markdown",
   "metadata": {},
   "source": [
    "c) przestrzenią zdarzeń elementarnych jest zbiór kombinacji wszystkich możliwych odpowiedzi na każde pytanie tj. kombinacja: pytanie (1, 2, 3, 4) - odpowiedź (a,b,c)"
   ]
  },
  {
   "cell_type": "markdown",
   "metadata": {},
   "source": [
    "ilość możliwych wyników eksperymentu: ilość odpowiedzi do potęgi ilość pytań"
   ]
  },
  {
   "cell_type": "code",
   "execution_count": 105,
   "metadata": {},
   "outputs": [
    {
     "name": "stdout",
     "output_type": "stream",
     "text": [
      "81\n"
     ]
    }
   ],
   "source": [
    "N = 4\n",
    "o = 3\n",
    "ilosc = o**N\n",
    "print (ilosc)"
   ]
  },
  {
   "cell_type": "markdown",
   "metadata": {},
   "source": [
    "przestrzeń zdarzeń elementarnych"
   ]
  },
  {
   "cell_type": "code",
   "execution_count": 106,
   "metadata": {},
   "outputs": [],
   "source": [
    "from itertools import product, permutations, combinations, combinations_with_replacement"
   ]
  },
  {
   "cell_type": "code",
   "execution_count": 107,
   "metadata": {},
   "outputs": [
    {
     "name": "stdout",
     "output_type": "stream",
     "text": [
      "{('c', 'c', 'c', 'c'), ('c', 'c', 'a', 'b'), ('a', 'a', 'b', 'c'), ('b', 'b', 'c', 'b'), ('a', 'c', 'a', 'b'), ('b', 'c', 'c', 'c'), ('c', 'b', 'c', 'a'), ('b', 'b', 'b', 'c'), ('a', 'b', 'c', 'a'), ('c', 'c', 'a', 'a'), ('a', 'b', 'a', 'b'), ('a', 'c', 'b', 'b'), ('b', 'a', 'c', 'a'), ('b', 'a', 'a', 'b'), ('b', 'c', 'a', 'c'), ('c', 'b', 'a', 'a'), ('c', 'c', 'b', 'a'), ('c', 'a', 'a', 'c'), ('b', 'a', 'a', 'a'), ('b', 'a', 'b', 'b'), ('b', 'c', 'c', 'b'), ('a', 'a', 'a', 'c'), ('a', 'b', 'b', 'a'), ('c', 'b', 'b', 'c'), ('b', 'c', 'b', 'c'), ('c', 'a', 'c', 'a'), ('b', 'b', 'a', 'c'), ('a', 'c', 'c', 'a'), ('a', 'a', 'c', 'a'), ('c', 'a', 'b', 'b'), ('c', 'b', 'c', 'c'), ('a', 'b', 'c', 'c'), ('b', 'b', 'c', 'a'), ('a', 'c', 'a', 'a'), ('b', 'a', 'c', 'c'), ('c', 'c', 'c', 'b'), ('a', 'a', 'b', 'b'), ('a', 'b', 'a', 'a'), ('a', 'c', 'b', 'a'), ('c', 'b', 'a', 'c'), ('c', 'c', 'b', 'c'), ('b', 'b', 'b', 'b'), ('a', 'b', 'b', 'c'), ('b', 'a', 'b', 'a'), ('b', 'c', 'c', 'a'), ('c', 'a', 'c', 'c'), ('b', 'c', 'a', 'b'), ('c', 'a', 'a', 'b'), ('a', 'c', 'c', 'c'), ('a', 'a', 'c', 'c'), ('a', 'a', 'a', 'b'), ('c', 'b', 'b', 'b'), ('b', 'c', 'b', 'b'), ('c', 'c', 'a', 'c'), ('b', 'b', 'c', 'c'), ('a', 'c', 'a', 'c'), ('b', 'b', 'a', 'b'), ('c', 'a', 'b', 'a'), ('a', 'b', 'a', 'c'), ('a', 'c', 'b', 'c'), ('b', 'a', 'a', 'c'), ('c', 'c', 'c', 'a'), ('c', 'b', 'c', 'b'), ('a', 'a', 'b', 'a'), ('a', 'b', 'c', 'b'), ('b', 'a', 'c', 'b'), ('b', 'b', 'b', 'a'), ('b', 'a', 'b', 'c'), ('c', 'b', 'a', 'b'), ('c', 'c', 'b', 'b'), ('b', 'c', 'a', 'a'), ('c', 'a', 'a', 'a'), ('a', 'b', 'b', 'b'), ('c', 'a', 'c', 'b'), ('a', 'a', 'a', 'a'), ('c', 'b', 'b', 'a'), ('b', 'c', 'b', 'a'), ('a', 'c', 'c', 'b'), ('c', 'a', 'b', 'c'), ('a', 'a', 'c', 'b'), ('b', 'b', 'a', 'a')}\n",
      "81\n"
     ]
    }
   ],
   "source": [
    "N = {\"1\", \"2\", \"3\", \"4\"}\n",
    "o = {\"a\", \"b\", \"c\"}\n",
    "pr =  set(product (o, repeat = 4))\n",
    "per = set(permutations (o, 4))\n",
    "com = set(combinations (o, 4))\n",
    "cwr = set(combinations_with_replacement (o, 4))\n",
    "print(pr)\n",
    "print(len(pr))\n",
    "# print(per)\n",
    "# print(com)\n",
    "# print(cwr)"
   ]
  },
  {
   "cell_type": "markdown",
   "metadata": {},
   "source": [
    "**2. Eksperyment polega na rzucie dwiema uczciwymi kostkami. Jeżeli na obu kostkach wypadnie taka sama liczba oczek, zmienna losowa przyjmuje wartość $x_0=0$, jeśli na pierwszej kostce wypadnie liczba oczek mniejsza niż na drugiej, wówczas zmienna losowa przyjmuje wartość $x_1=1$. Natomiast jeśli na pierwszej kostce wypadnie liczba oczek większa niż na drugiej kostce zmienna losowa przyjmuje wartość $x_2=2$.**\n",
    "\n",
    "**W języku Python utwórz zmienną losową (wartości i odpowiadające im prawdopodbieństwa) reprezentującą ten eksperyment. Oblicz wartość oczekiwaną i odchylenie standardowe oraz momenty zwykłe rzędu pierwszego i drugiego. Utwórz obiekt rozkładu z biblioteki scipy.stats dla tego przypadku**\n",
    "\n",
    "**Wykonaj wykres rozkładu prawdopodobieństwa i dystrybuanty tej zmiennej losowej.**"
   ]
  },
  {
   "cell_type": "code",
   "execution_count": 108,
   "metadata": {},
   "outputs": [],
   "source": [
    "import numpy as np\n",
    "import scipy.stats as st\n",
    "import matplotlib.pyplot as plt\n",
    "import random"
   ]
  },
  {
   "cell_type": "code",
   "execution_count": 109,
   "metadata": {},
   "outputs": [],
   "source": [
    "# zdarzenia elementarne:\n",
    "ZE = [(0, 1/6), (1, 15/36), (2, 15/36)]"
   ]
  },
  {
   "cell_type": "code",
   "execution_count": 110,
   "metadata": {},
   "outputs": [
    {
     "name": "stdout",
     "output_type": "stream",
     "text": [
      "P(0) = 0.167\n",
      "P(1) = 0.417\n",
      "P(2) = 0.417\n"
     ]
    }
   ],
   "source": [
    "# prawdopodobieństwa:\n",
    "for k in ZE:\n",
    "    print(f\"P({k[0]}) = {round(k[1], 3)}\")"
   ]
  },
  {
   "cell_type": "code",
   "execution_count": 111,
   "metadata": {},
   "outputs": [
    {
     "name": "stdout",
     "output_type": "stream",
     "text": [
      "[1, 2, 2, 1, 0, 2, 2, 2, 2, 1, 2, 1, 2, 1, 1, 2, 2, 1, 2, 2, 2, 2, 1, 2, 1, 1, 2, 1, 2, 1, 1, 2, 2, 2, 0, 1, 0, 2, 2, 2, 1, 1, 0, 2, 0, 1, 1, 2, 1, 1, 2, 1, 1, 2, 0, 0, 1, 1, 0, 2, 2, 2, 1, 1, 2, 2, 0, 2, 1, 1, 0, 1, 2, 1, 2, 2, 1, 1, 2, 1, 2, 1, 0, 2, 0, 1, 1, 1, 2, 1, 1, 1, 2, 1, 1, 1, 0, 2, 2, 1, 1]\n"
     ]
    }
   ],
   "source": [
    "# trzeba stworzyć zbiór wyników do zbadania\n",
    "collection = []\n",
    "\n",
    "def throw():\n",
    "    cube1 = random.randint(1, 6)\n",
    "    cube2 = random.randint(1, 6)\n",
    "    if cube1 == cube2:\n",
    "        a = 0\n",
    "    elif cube1 < cube2:\n",
    "        a = 1\n",
    "    elif cube1 > cube2:\n",
    "        a = 2\n",
    "    collection.append(a)\n",
    "\n",
    "multiplier=0 \n",
    "while multiplier <= 100:\n",
    "    throw()\n",
    "    multiplier += 1\n",
    "\n",
    "print(collection)"
   ]
  },
  {
   "cell_type": "code",
   "execution_count": 113,
   "metadata": {},
   "outputs": [
    {
     "name": "stdout",
     "output_type": "stream",
     "text": [
      "1.25\n"
     ]
    }
   ],
   "source": [
    "# wartość oczekiwana\n",
    "Expected = 0\n",
    "for x, p in ZE:\n",
    "    Expected += x * p\n",
    "print (Expected)"
   ]
  },
  {
   "cell_type": "code",
   "execution_count": 114,
   "metadata": {},
   "outputs": [
    {
     "name": "stdout",
     "output_type": "stream",
     "text": [
      "1.297029702970297\n"
     ]
    }
   ],
   "source": [
    "# średnia\n",
    "Mean = sum(collection) / len(collection)\n",
    "print(Mean)"
   ]
  },
  {
   "cell_type": "code",
   "execution_count": 115,
   "metadata": {},
   "outputs": [
    {
     "name": "stdout",
     "output_type": "stream",
     "text": [
      "0.6828094910719472\n"
     ]
    }
   ],
   "source": [
    "# odchylenie standardowe\n",
    "StDev = np.std(collection)\n",
    "print (StDev)"
   ]
  },
  {
   "cell_type": "code",
   "execution_count": 116,
   "metadata": {},
   "outputs": [
    {
     "name": "stdout",
     "output_type": "stream",
     "text": [
      "1.25\n"
     ]
    }
   ],
   "source": [
    "# moment zwykły rzędu pierwszego\n",
    "m1 = Expected\n",
    "print (m1)"
   ]
  },
  {
   "cell_type": "code",
   "execution_count": 117,
   "metadata": {},
   "outputs": [
    {
     "name": "stdout",
     "output_type": "stream",
     "text": [
      "2.0833333333333335\n"
     ]
    }
   ],
   "source": [
    "# moment zwykły rzędu drugiego\n",
    "m2 = 0\n",
    "for x, p in ZE:\n",
    "    m2 += p * x**2\n",
    "print (m2)"
   ]
  },
  {
   "cell_type": "code",
   "execution_count": 130,
   "metadata": {},
   "outputs": [],
   "source": [
    "# wykres\n",
    "a = np.array([0, 1, 2]) # wartośći\n",
    "b = np.array([1/6, 15/36, 15/36]) #prawdopodobieństwa"
   ]
  },
  {
   "cell_type": "code",
   "execution_count": 133,
   "metadata": {},
   "outputs": [],
   "source": [
    "w = distribution.xk\n",
    "y = distribution.pmf(w)\n",
    "b1 = distribution.cdf(w)"
   ]
  },
  {
   "cell_type": "code",
   "execution_count": 143,
   "metadata": {},
   "outputs": [
    {
     "data": {
      "image/png": "[encoded data removed]",
      "text/plain": [
       "<Figure size 432x288 with 1 Axes>"
      ]
     },
     "metadata": {
      "needs_background": "light"
     },
     "output_type": "display_data"
    }
   ],
   "source": [
    "plt.vlines(w,0,b,\"red\")\n",
    "plt.hlines(np.append([0],b1), np.append([min(w)-1],w), np.append(t,[max(w)+1]), colors='blue', lw=3)\n",
    "plt.legend([\"p(x) - prawdopodobieństwo\", \"F(x) - dystrybuanta\"])\n",
    "pass"
   ]
  },
  {
   "cell_type": "markdown",
   "metadata": {},
   "source": [
    "**3. Dana jest zmienna losowa o rozkładzie normalnym ze średnią $\\mu=1250$ i odchyleniem standardowym $\\sigma=300$. Ta zmienna losowa opisuje sumę dziennego przychodu pewnej firmy w PLN. Oblicz:**\n",
    " \n",
    " 1. Prawdopodobieństwo, że w losowo wybranym dniu suma dziennego przychodu osiągnie wartość pomiędzy $1000$ a $1100$ PLN\n",
    " 2. Prawdopodobieństwo, że w losowo wybranym dniu suma dziennego przychodu osiągnie wartość większą niż $1500$ PLN\n",
    " 3. Kwotę przychodu dziennego, której prawdopodobieństwo przewyższenia (otrzymania wartości równej lub większej) wynosi $0,1$\n",
    " 4. Kwotę przychodu dziennego, której prawdopodobieństwo nieosiągnięcia (otrzymania wartości równiej lub niższej) wynosi $0.25$\n",
    " \n",
    "**Wykonaj wykres gęstości rozkładu prawdopodobieństwa i dystrybuanty tej zmiennej losowej. Wykonaj wykresy ilustrujące rozwiązanie dla każdego przypadku**"
   ]
  },
  {
   "cell_type": "code",
   "execution_count": 136,
   "metadata": {},
   "outputs": [],
   "source": [
    "mi = 1250\n",
    "sigma = 300"
   ]
  },
  {
   "cell_type": "code",
   "execution_count": 180,
   "metadata": {},
   "outputs": [
    {
     "data": {
      "text/plain": [
       "[<matplotlib.lines.Line2D at 0x220acee94c0>]"
      ]
     },
     "execution_count": 180,
     "metadata": {},
     "output_type": "execute_result"
    },
    {
     "data": {
      "image/png": "[encoded data removed]",
      "text/plain": [
       "<Figure size 432x288 with 1 Axes>"
      ]
     },
     "metadata": {
      "needs_background": "light"
     },
     "output_type": "display_data"
    }
   ],
   "source": [
    "# rozkład normalny\n",
    "RN = st.norm(mi,sigma)\n",
    "x = np.linspace (mi-4*sigma, mi+4*sigma, 1000)\n",
    "fn = RN.pdf(x) # gęstość p-wa\n",
    "plt.plot(x,fn)"
   ]
  },
  {
   "cell_type": "code",
   "execution_count": 182,
   "metadata": {},
   "outputs": [
    {
     "data": {
      "text/plain": [
       "[<matplotlib.lines.Line2D at 0x220aba105b0>]"
      ]
     },
     "execution_count": 182,
     "metadata": {},
     "output_type": "execute_result"
    },
    {
     "data": {
      "image/png": "[encoded data removed]",
      "text/plain": [
       "<Figure size 432x288 with 1 Axes>"
      ]
     },
     "metadata": {
      "needs_background": "light"
     },
     "output_type": "display_data"
    }
   ],
   "source": [
    "#  dystrybuanta\n",
    "Fn = RN.cdf(x)\n",
    "plt.plot(x,Fn)"
   ]
  },
  {
   "cell_type": "code",
   "execution_count": 183,
   "metadata": {},
   "outputs": [
    {
     "name": "stdout",
     "output_type": "stream",
     "text": [
      "0.1062091577623438\n"
     ]
    }
   ],
   "source": [
    "# Prawdopodobieństwo, że w losowo wybranym dniu suma dziennego przychodu osiągnie wartość pomiędzy  1000  a  1100  PLN\n",
    "a = 1000\n",
    "b = 1100\n",
    "p = RN.cdf(b) - RN.cdf(a)\n",
    "print(p)"
   ]
  },
  {
   "cell_type": "code",
   "execution_count": 185,
   "metadata": {},
   "outputs": [
    {
     "data": {
      "image/png": "[encoded data removed]",
      "text/plain": [
       "<Figure size 432x288 with 1 Axes>"
      ]
     },
     "metadata": {
      "needs_background": "light"
     },
     "output_type": "display_data"
    }
   ],
   "source": [
    "plt.plot(xn,fn,\"blue\")\n",
    "t = np.linspace(a,b,100)\n",
    "plt.fill_between(t,0,RN.pdf(t))\n",
    "plt.legend([\"f(x) - gęstość\", \"P(a<X<b)\"])\n",
    "pass"
   ]
  },
  {
   "cell_type": "code",
   "execution_count": 186,
   "metadata": {},
   "outputs": [
    {
     "name": "stdout",
     "output_type": "stream",
     "text": [
      "0.20229670972181002\n"
     ]
    }
   ],
   "source": [
    "# Prawdopodobieństwo, że w losowo wybranym dniu suma dziennego przychodu osiągnie wartość większą niż  1500  PLN\n",
    "c = 1500\n",
    "d = mi+4*sigma\n",
    "p2 = RN.cdf(d) - RN.cdf(c)\n",
    "print(p2)"
   ]
  },
  {
   "cell_type": "code",
   "execution_count": 188,
   "metadata": {},
   "outputs": [
    {
     "data": {
      "image/png": "[encoded data removed]",
      "text/plain": [
       "<Figure size 432x288 with 1 Axes>"
      ]
     },
     "metadata": {
      "needs_background": "light"
     },
     "output_type": "display_data"
    }
   ],
   "source": [
    "plt.plot(xn,fn,\"blue\")\n",
    "t = np.linspace(c,d,100)\n",
    "plt.fill_between(t,0,RN.pdf(t))\n",
    "plt.legend([\"f(x) - gęstość\", \"P(c<X<d)\"])\n",
    "pass"
   ]
  },
  {
   "cell_type": "code",
   "execution_count": 199,
   "metadata": {},
   "outputs": [
    {
     "name": "stdout",
     "output_type": "stream",
     "text": [
      "865.5345303366198\n"
     ]
    }
   ],
   "source": [
    "#kwota przewyższająca p-wo 0.1\n",
    "amount010 = RN.ppf(0.1)\n",
    "print(amount010)"
   ]
  },
  {
   "cell_type": "code",
   "execution_count": 201,
   "metadata": {},
   "outputs": [
    {
     "name": "stdout",
     "output_type": "stream",
     "text": [
      "1047.6530749411754\n"
     ]
    }
   ],
   "source": [
    "# kwota poniżej której p-wo spada.\n",
    "amount025 = RN.ppf(0.25)\n",
    "print(amount025)"
   ]
  },
  {
   "cell_type": "code",
   "execution_count": null,
   "metadata": {},
   "outputs": [],
   "source": []
  }
 ],
 "metadata": {
  "kernelspec": {
   "display_name": "Python 3",
   "language": "python",
   "name": "python3"
  },
  "language_info": {
   "codemirror_mode": {
    "name": "ipython",
    "version": 3
   },
   "file_extension": ".py",
   "mimetype": "text/x-python",
   "name": "python",
   "nbconvert_exporter": "python",
   "pygments_lexer": "ipython3",
   "version": "3.8.8"
  }
 },
 "nbformat": 4,
 "nbformat_minor": 2
}
